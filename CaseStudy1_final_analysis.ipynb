{
 "cells": [
  {
   "cell_type": "markdown",
   "metadata": {
    "id": "mkYt463mkDwy"
   },
   "source": [
    "# **Error Analysis on Toxicity Comments Text Classification**"
   ]
  },
  {
   "cell_type": "markdown",
   "metadata": {
    "id": "ddBtkQaqy2Bl"
   },
   "source": [
    "# **Objective:**\n",
    "In this notebook we are doing error analysis on part of training data (1k data points), by performing EDA analysis on features considered in previous notebook and find out why certain data points were wrongly predicted. "
   ]
  },
  {
   "cell_type": "markdown",
   "metadata": {
    "id": "6Y-jsVDj1W_Z"
   },
   "source": [
    "# **Importing Packages**"
   ]
  },
  {
   "cell_type": "code",
   "execution_count": 2,
   "metadata": {
    "id": "SKOIBlYu0HoI"
   },
   "outputs": [],
   "source": [
    "import os\n",
    "import numpy as np\n",
    "import re\n",
    "import nltk\n",
    "import pandas as pd\n",
    "import pickle\n",
    "import matplotlib.pyplot as plt\n",
    "from sklearn.metrics import f1_score\n",
    "from tensorflow.keras.layers import Dense,Input,Activation,Concatenate,Conv1D,Embedding,MaxPool1D,Flatten,Dropout\n",
    "from tensorflow.keras.models import Model,Sequential\n",
    "from tensorflow.keras.callbacks import EarlyStopping\n",
    "import tensorflow as tf\n",
    "import datetime\n",
    "from keras.preprocessing.text import Tokenizer\n",
    "from sklearn.feature_extraction.text import TfidfVectorizer, CountVectorizer\n",
    "from keras.preprocessing.sequence import pad_sequences\n",
    "from sklearn.model_selection import train_test_split\n",
    "from sklearn.preprocessing import LabelEncoder, OneHotEncoder\n",
    "import pickle\n",
    "import warnings\n",
    "warnings.filterwarnings(\"ignore\")\n",
    "from sklearn.metrics import confusion_matrix, classification_report,roc_auc_score\n",
    "from sklearn.metrics._classification import accuracy_score, log_loss\n",
    "import seaborn as sns\n",
    "from tqdm import tqdm\n",
    "from scipy.sparse import csr_matrix\n",
    "from scipy.sparse import hstack\n",
    "from sklearn import metrics\n",
    "from tensorflow.keras.utils import plot_model\n",
    "from xgboost import XGBClassifier\n",
    "from wordcloud import WordCloud, STOPWORDS"
   ]
  },
  {
   "cell_type": "code",
   "execution_count": 3,
   "metadata": {
    "id": "De_nkuxSqaIe"
   },
   "outputs": [],
   "source": [
    "from tensorflow.keras.layers import Dense,Input,Activation,Concatenate,Conv1D,Embedding,MaxPool1D,Flatten,Dropout,Activation,LSTM,BatchNormalization,Bidirectional\n",
    "from tensorflow.keras.models import Model,Sequential\n",
    "from tensorflow.keras.callbacks import EarlyStopping\n",
    "import tensorflow as tf\n",
    "import datetime\n",
    "from keras.models import load_model"
   ]
  },
  {
   "cell_type": "markdown",
   "metadata": {
    "id": "5yNDfIB61bsL"
   },
   "source": [
    "# **Loading Train Data**"
   ]
  },
  {
   "cell_type": "code",
   "execution_count": 4,
   "metadata": {
    "id": "E-5rFgoU1LoT"
   },
   "outputs": [],
   "source": [
    "X_train, y_train = pickle.load(open(\"/content/drive/MyDrive/Work_files/Jigsaw_toxicity_classification/train_npdata.pkl\", 'rb'))"
   ]
  },
  {
   "cell_type": "code",
   "execution_count": 5,
   "metadata": {
    "colab": {
     "base_uri": "https://localhost:8080/",
     "height": 539
    },
    "id": "1HEe1oqN2XlV",
    "outputId": "6f708ae3-ed3c-4cc8-f8b9-40729559c0ae"
   },
   "outputs": [
    {
     "data": {
      "text/html": [
       "<div>\n",
       "<style scoped>\n",
       "    .dataframe tbody tr th:only-of-type {\n",
       "        vertical-align: middle;\n",
       "    }\n",
       "\n",
       "    .dataframe tbody tr th {\n",
       "        vertical-align: top;\n",
       "    }\n",
       "\n",
       "    .dataframe thead th {\n",
       "        text-align: right;\n",
       "    }\n",
       "</style>\n",
       "<table border=\"1\" class=\"dataframe\">\n",
       "  <thead>\n",
       "    <tr style=\"text-align: right;\">\n",
       "      <th></th>\n",
       "      <th>id</th>\n",
       "      <th>comment_text</th>\n",
       "      <th>male</th>\n",
       "      <th>female</th>\n",
       "      <th>homosexual_gay_or_lesbian</th>\n",
       "      <th>christian</th>\n",
       "      <th>jewish</th>\n",
       "      <th>muslim</th>\n",
       "      <th>black</th>\n",
       "      <th>white</th>\n",
       "      <th>psychiatric_or_mental_illness</th>\n",
       "      <th>no_of_unique_words</th>\n",
       "      <th>word_count</th>\n",
       "      <th>toxic_words_count</th>\n",
       "    </tr>\n",
       "  </thead>\n",
       "  <tbody>\n",
       "    <tr>\n",
       "      <th>369772</th>\n",
       "      <td>695670</td>\n",
       "      <td>reply solar power around 70 years great would ...</td>\n",
       "      <td>0</td>\n",
       "      <td>0</td>\n",
       "      <td>0</td>\n",
       "      <td>0</td>\n",
       "      <td>0</td>\n",
       "      <td>0</td>\n",
       "      <td>0</td>\n",
       "      <td>0</td>\n",
       "      <td>0</td>\n",
       "      <td>52</td>\n",
       "      <td>66</td>\n",
       "      <td>54</td>\n",
       "    </tr>\n",
       "    <tr>\n",
       "      <th>634793</th>\n",
       "      <td>1018342</td>\n",
       "      <td>party thinks win carbon taxes dreaming climate...</td>\n",
       "      <td>0</td>\n",
       "      <td>0</td>\n",
       "      <td>0</td>\n",
       "      <td>0</td>\n",
       "      <td>0</td>\n",
       "      <td>0</td>\n",
       "      <td>0</td>\n",
       "      <td>0</td>\n",
       "      <td>0</td>\n",
       "      <td>43</td>\n",
       "      <td>45</td>\n",
       "      <td>41</td>\n",
       "    </tr>\n",
       "    <tr>\n",
       "      <th>964708</th>\n",
       "      <td>5298193</td>\n",
       "      <td>notice not mention global warming presume need...</td>\n",
       "      <td>0</td>\n",
       "      <td>0</td>\n",
       "      <td>0</td>\n",
       "      <td>0</td>\n",
       "      <td>0</td>\n",
       "      <td>0</td>\n",
       "      <td>0</td>\n",
       "      <td>0</td>\n",
       "      <td>0</td>\n",
       "      <td>21</td>\n",
       "      <td>24</td>\n",
       "      <td>21</td>\n",
       "    </tr>\n",
       "    <tr>\n",
       "      <th>1061887</th>\n",
       "      <td>5414705</td>\n",
       "      <td>maybe schumer make effort civil likely never h...</td>\n",
       "      <td>0</td>\n",
       "      <td>0</td>\n",
       "      <td>0</td>\n",
       "      <td>0</td>\n",
       "      <td>0</td>\n",
       "      <td>0</td>\n",
       "      <td>0</td>\n",
       "      <td>0</td>\n",
       "      <td>0</td>\n",
       "      <td>11</td>\n",
       "      <td>11</td>\n",
       "      <td>11</td>\n",
       "    </tr>\n",
       "    <tr>\n",
       "      <th>1020920</th>\n",
       "      <td>5365732</td>\n",
       "      <td>im not sure people willfully ignorant experien...</td>\n",
       "      <td>1</td>\n",
       "      <td>1</td>\n",
       "      <td>0</td>\n",
       "      <td>0</td>\n",
       "      <td>0</td>\n",
       "      <td>0</td>\n",
       "      <td>1</td>\n",
       "      <td>1</td>\n",
       "      <td>0</td>\n",
       "      <td>68</td>\n",
       "      <td>80</td>\n",
       "      <td>64</td>\n",
       "    </tr>\n",
       "  </tbody>\n",
       "</table>\n",
       "</div>"
      ],
      "text/plain": [
       "              id  ... toxic_words_count\n",
       "369772    695670  ...                54\n",
       "634793   1018342  ...                41\n",
       "964708   5298193  ...                21\n",
       "1061887  5414705  ...                11\n",
       "1020920  5365732  ...                64\n",
       "\n",
       "[5 rows x 14 columns]"
      ]
     },
     "execution_count": 5,
     "metadata": {},
     "output_type": "execute_result"
    }
   ],
   "source": [
    "X_train.head()"
   ]
  },
  {
   "cell_type": "markdown",
   "metadata": {
    "id": "EhCJTOlQ1s8v"
   },
   "source": [
    "# **Tokenizing**"
   ]
  },
  {
   "cell_type": "code",
   "execution_count": 6,
   "metadata": {
    "id": "q7SirCQxPc8N"
   },
   "outputs": [],
   "source": [
    "from keras.preprocessing.text import Tokenizer\n",
    "from keras.preprocessing.sequence import pad_sequences\n",
    "to_exclude = '!\"#$%&()*+-/:;<=>@[\\\\]^.,:;!?`{|}~\\t\\n'\n",
    "t_model1 = Tokenizer(filters=to_exclude)\n",
    "\n",
    "t_model1.fit_on_texts(X_train['comment_text'])\n",
    "# print(t.word_index)\n",
    "X_train_tokenizer_model1=t_model1.texts_to_sequences(X_train['comment_text'])\n",
    "\n",
    "padded_X_train_seq=pad_sequences(sequences=X_train_tokenizer_model1,value=0,maxlen=500)\n",
    "\n"
   ]
  },
  {
   "cell_type": "markdown",
   "metadata": {
    "id": "Tu2JPhF51zb8"
   },
   "source": [
    "# **Original Preprocessed 1000 comments**"
   ]
  },
  {
   "cell_type": "code",
   "execution_count": 7,
   "metadata": {
    "id": "CDBq1GpomPJb"
   },
   "outputs": [],
   "source": [
    "original_X_train_1000=X_train['comment_text'][:1000]"
   ]
  },
  {
   "cell_type": "markdown",
   "metadata": {
    "id": "d5a74-db2CHL"
   },
   "source": [
    "# **Padded Preprocessed 1000 comments**"
   ]
  },
  {
   "cell_type": "code",
   "execution_count": 8,
   "metadata": {
    "colab": {
     "base_uri": "https://localhost:8080/"
    },
    "id": "--t0YItH4aPm",
    "outputId": "3dcc899a-11de-44d7-a41b-e1e655e167f8"
   },
   "outputs": [
    {
     "name": "stdout",
     "output_type": "stream",
     "text": [
      "(1000, 500) (1000,)\n"
     ]
    }
   ],
   "source": [
    "data1=padded_X_train_seq[:1000]\n",
    "y1=y_train[:1000]\n",
    "print(data1.shape,y1.shape)"
   ]
  },
  {
   "cell_type": "markdown",
   "metadata": {
    "id": "9oLdljoh2MxB"
   },
   "source": [
    "# **Loading our Best Model**"
   ]
  },
  {
   "cell_type": "code",
   "execution_count": 9,
   "metadata": {
    "id": "tee1xF5E_WYM"
   },
   "outputs": [],
   "source": [
    "model2=load_model(\"/content/drive/MyDrive/Work_files/Jigsaw_toxicity_classification/model4.h5\")"
   ]
  },
  {
   "cell_type": "markdown",
   "metadata": {
    "id": "G8FeygFv2XiA"
   },
   "source": [
    "# **Predicting on the 1000 padded sequences** "
   ]
  },
  {
   "cell_type": "code",
   "execution_count": 10,
   "metadata": {
    "id": "cQ6Ce2gV4WlI"
   },
   "outputs": [],
   "source": [
    "data1_pred=model2.predict(data1)\n"
   ]
  },
  {
   "cell_type": "markdown",
   "metadata": {
    "id": "qWNgD1-y3pUe"
   },
   "source": [
    "## **Predicted 1000 Data points**"
   ]
  },
  {
   "cell_type": "code",
   "execution_count": 11,
   "metadata": {
    "colab": {
     "base_uri": "https://localhost:8080/"
    },
    "id": "_JmCOcYi-poZ",
    "outputId": "77b3bbc6-7641-4d24-809d-5475ab2e8e43"
   },
   "outputs": [
    {
     "data": {
      "text/plain": [
       "array([0, 0, 0, 0, 0, 0, 0, 0, 0, 0, 0, 0, 0, 0, 0, 0, 0, 0, 0, 0, 0, 0,\n",
       "       0, 0, 0, 0, 0, 0, 0, 0, 0, 0, 0, 0, 0, 0, 1, 1, 0, 0, 0, 0, 0, 0,\n",
       "       0, 0, 0, 0, 0, 0, 0, 0, 0, 0, 0, 0, 0, 0, 0, 0, 0, 0, 0, 0, 0, 0,\n",
       "       0, 0, 0, 0, 0, 0, 0, 0, 0, 0, 0, 0, 0, 0, 0, 0, 1, 0, 0, 0, 0, 0,\n",
       "       0, 0, 0, 0, 0, 1, 0, 0, 1, 0, 0, 0, 0, 0, 0, 1, 0, 0, 0, 0, 0, 0,\n",
       "       0, 0, 0, 0, 0, 0, 0, 0, 0, 0, 0, 0, 0, 0, 0, 0, 0, 0, 0, 0, 0, 0,\n",
       "       0, 0, 0, 0, 0, 0, 0, 0, 0, 0, 0, 0, 1, 0, 0, 0, 0, 0, 0, 0, 0, 0,\n",
       "       0, 0, 0, 1, 0, 0, 0, 1, 0, 0, 0, 0, 0, 0, 1, 0, 0, 0, 0, 0, 0, 1,\n",
       "       0, 0, 0, 1, 0, 0, 0, 0, 0, 1, 0, 0, 0, 0, 0, 0, 0, 0, 0, 0, 0, 0,\n",
       "       0, 0, 0, 0, 0, 0, 0, 0, 0, 0, 0, 0, 0, 0, 0, 0, 0, 0, 0, 0, 0, 0,\n",
       "       0, 0, 0, 0, 0, 0, 0, 0, 0, 0, 0, 0, 0, 0, 0, 0, 0, 0, 0, 0, 0, 0,\n",
       "       0, 0, 0, 0, 0, 0, 0, 0, 0, 0, 0, 0, 0, 0, 0, 0, 1, 0, 0, 0, 0, 0,\n",
       "       0, 0, 0, 0, 0, 0, 0, 0, 0, 0, 0, 0, 0, 1, 0, 0, 0, 0, 0, 0, 1, 0,\n",
       "       0, 0, 0, 1, 0, 0, 0, 0, 0, 0, 0, 0, 0, 0, 0, 0, 0, 1, 0, 1, 0, 0,\n",
       "       0, 0, 0, 0, 0, 0, 0, 0, 0, 0, 0, 0, 0, 0, 0, 0, 0, 0, 0, 0, 0, 0,\n",
       "       0, 0, 0, 0, 0, 0, 0, 0, 0, 0, 0, 0, 0, 0, 0, 0, 0, 0, 0, 1, 0, 0,\n",
       "       0, 0, 0, 0, 0, 0, 0, 1, 0, 0, 0, 0, 0, 0, 0, 0, 0, 0, 0, 0, 0, 0,\n",
       "       0, 0, 0, 0, 0, 0, 0, 0, 0, 0, 0, 0, 0, 0, 0, 0, 0, 0, 0, 0, 0, 0,\n",
       "       0, 0, 0, 0, 0, 0, 0, 0, 0, 0, 0, 0, 0, 0, 0, 0, 0, 0, 0, 0, 0, 0,\n",
       "       0, 0, 0, 1, 0, 0, 0, 0, 0, 0, 0, 0, 0, 0, 0, 0, 0, 0, 0, 0, 0, 0,\n",
       "       0, 0, 0, 0, 0, 0, 0, 0, 0, 0, 0, 0, 0, 0, 0, 0, 0, 0, 0, 1, 0, 0,\n",
       "       0, 0, 0, 0, 0, 0, 0, 0, 0, 0, 1, 0, 0, 0, 0, 0, 0, 0, 0, 0, 0, 0,\n",
       "       0, 0, 0, 0, 0, 0, 1, 0, 0, 0, 0, 0, 0, 0, 0, 0, 0, 0, 0, 0, 0, 0,\n",
       "       0, 0, 0, 0, 0, 0, 0, 0, 0, 0, 0, 0, 0, 0, 0, 0, 0, 0, 1, 0, 0, 0,\n",
       "       0, 0, 0, 0, 0, 0, 0, 0, 0, 0, 0, 0, 0, 0, 1, 0, 0, 0, 0, 0, 0, 0,\n",
       "       0, 0, 0, 0, 0, 0, 0, 1, 0, 0, 0, 0, 0, 0, 0, 0, 0, 1, 0, 0, 0, 0,\n",
       "       0, 0, 0, 0, 0, 0, 0, 0, 0, 0, 0, 0, 0, 0, 0, 0, 0, 0, 0, 0, 0, 0,\n",
       "       0, 0, 0, 0, 0, 0, 0, 0, 0, 0, 0, 0, 0, 0, 0, 0, 0, 0, 0, 0, 0, 0,\n",
       "       0, 0, 0, 0, 0, 0, 0, 0, 0, 0, 0, 0, 0, 0, 0, 0, 0, 0, 0, 0, 0, 0,\n",
       "       1, 0, 0, 0, 0, 0, 0, 0, 0, 0, 0, 0, 0, 0, 0, 0, 0, 0, 0, 0, 0, 0,\n",
       "       0, 0, 0, 0, 0, 0, 0, 0, 0, 0, 0, 0, 0, 0, 0, 0, 0, 0, 0, 0, 0, 0,\n",
       "       0, 0, 0, 0, 0, 0, 0, 0, 0, 0, 0, 0, 0, 0, 0, 0, 0, 0, 0, 0, 0, 0,\n",
       "       0, 0, 0, 0, 0, 0, 0, 0, 0, 0, 0, 0, 0, 0, 0, 0, 0, 0, 0, 0, 0, 0,\n",
       "       0, 0, 0, 0, 0, 0, 0, 0, 0, 0, 0, 0, 0, 0, 0, 0, 0, 0, 0, 0, 0, 0,\n",
       "       0, 0, 0, 0, 1, 0, 0, 0, 0, 0, 0, 0, 0, 0, 0, 0, 0, 0, 0, 0, 0, 0,\n",
       "       0, 0, 0, 0, 0, 0, 0, 0, 0, 0, 0, 0, 0, 0, 0, 0, 0, 0, 0, 0, 0, 0,\n",
       "       0, 0, 0, 0, 0, 0, 0, 0, 1, 0, 0, 0, 0, 0, 0, 0, 0, 0, 0, 0, 0, 0,\n",
       "       0, 0, 0, 0, 0, 0, 0, 0, 0, 0, 0, 0, 0, 0, 0, 0, 0, 0, 0, 0, 0, 0,\n",
       "       0, 1, 0, 0, 0, 0, 0, 0, 0, 0, 0, 0, 0, 0, 0, 0, 0, 0, 0, 0, 0, 0,\n",
       "       0, 0, 0, 0, 0, 0, 0, 0, 0, 0, 0, 0, 0, 0, 0, 0, 0, 0, 0, 0, 0, 0,\n",
       "       0, 0, 0, 0, 0, 0, 1, 0, 0, 0, 0, 0, 0, 0, 0, 0, 0, 0, 0, 0, 0, 0,\n",
       "       0, 0, 0, 0, 0, 0, 0, 0, 0, 1, 0, 0, 0, 1, 0, 0, 0, 0, 0, 0, 0, 0,\n",
       "       0, 0, 0, 0, 0, 0, 0, 0, 0, 0, 0, 0, 0, 0, 0, 0, 0, 0, 0, 0, 0, 0,\n",
       "       0, 0, 0, 0, 0, 0, 0, 0, 0, 0, 0, 0, 0, 0, 0, 0, 0, 0, 0, 0, 0, 0,\n",
       "       0, 0, 0, 0, 0, 0, 0, 0, 0, 0, 0, 0, 0, 0, 0, 0, 0, 0, 0, 0, 0, 0,\n",
       "       0, 0, 0, 1, 0, 0, 0, 0, 0, 0])"
      ]
     },
     "execution_count": 11,
     "metadata": {},
     "output_type": "execute_result"
    }
   ],
   "source": [
    "pred1=np.where(np.around(data1_pred[:,1], decimals=4)>=0.5, 1, 0)\n",
    "pred1"
   ]
  },
  {
   "cell_type": "code",
   "execution_count": 12,
   "metadata": {
    "colab": {
     "base_uri": "https://localhost:8080/"
    },
    "id": "t09lHhey5Jzk",
    "outputId": "dc9345a3-ef0c-4a61-d923-632cf67c828a"
   },
   "outputs": [
    {
     "data": {
      "text/plain": [
       "array([0, 0, 0, 0, 0, 0, 0, 0, 0, 0, 0, 0, 0, 0, 0, 0, 0, 0, 0, 0, 0, 0,\n",
       "       0, 0, 0, 0, 0, 0, 0, 0, 0, 0, 0, 0, 0, 0, 1, 1, 0, 0, 0, 0, 0, 0,\n",
       "       0, 0, 0, 0, 0, 0, 0, 0, 0, 0, 0, 0, 1, 0, 0, 0, 0, 0, 0, 0, 0, 1,\n",
       "       0, 0, 0, 0, 0, 0, 0, 0, 0, 0, 0, 0, 0, 0, 0, 0, 1, 0, 0, 0, 0, 0,\n",
       "       0, 0, 0, 0, 0, 1, 0, 0, 1, 0, 0, 0, 0, 0, 0, 1, 0, 0, 0, 0, 0, 0,\n",
       "       0, 0, 0, 0, 0, 0, 0, 0, 0, 0, 0, 0, 0, 0, 0, 0, 0, 0, 0, 0, 0, 0,\n",
       "       0, 0, 0, 0, 0, 0, 0, 0, 0, 0, 0, 0, 1, 0, 0, 0, 1, 0, 0, 0, 0, 0,\n",
       "       0, 0, 0, 1, 0, 0, 0, 1, 0, 0, 0, 0, 0, 0, 1, 0, 0, 0, 0, 0, 0, 1,\n",
       "       0, 0, 0, 1, 0, 0, 0, 0, 0, 1, 0, 0, 0, 0, 0, 0, 0, 0, 0, 0, 0, 0,\n",
       "       0, 0, 0, 0, 0, 0, 0, 0, 0, 0, 0, 0, 0, 0, 0, 0, 0, 0, 0, 0, 0, 0,\n",
       "       0, 0, 0, 0, 0, 0, 0, 0, 0, 0, 0, 0, 0, 0, 0, 0, 0, 0, 0, 0, 0, 0,\n",
       "       0, 0, 0, 0, 0, 0, 0, 0, 0, 0, 0, 0, 0, 0, 0, 0, 1, 0, 0, 0, 0, 0,\n",
       "       0, 0, 0, 0, 0, 0, 0, 0, 0, 0, 0, 0, 0, 1, 0, 0, 0, 0, 0, 0, 1, 0,\n",
       "       0, 0, 0, 1, 0, 0, 0, 0, 0, 0, 0, 0, 0, 0, 0, 0, 0, 1, 0, 1, 0, 0,\n",
       "       0, 0, 0, 0, 0, 0, 0, 0, 0, 0, 0, 0, 0, 0, 0, 0, 0, 0, 0, 0, 0, 0,\n",
       "       0, 0, 0, 0, 0, 0, 0, 0, 0, 0, 0, 0, 0, 0, 0, 0, 0, 0, 0, 1, 0, 0,\n",
       "       0, 0, 0, 0, 0, 0, 0, 1, 0, 0, 0, 0, 0, 0, 0, 0, 0, 0, 0, 1, 0, 0,\n",
       "       0, 0, 0, 0, 0, 0, 0, 0, 0, 0, 0, 0, 1, 0, 0, 0, 0, 0, 1, 0, 0, 0,\n",
       "       0, 0, 0, 0, 0, 0, 0, 0, 0, 0, 0, 0, 0, 0, 0, 0, 0, 0, 0, 0, 0, 0,\n",
       "       0, 0, 0, 1, 0, 0, 0, 0, 0, 0, 0, 0, 0, 0, 0, 0, 0, 0, 0, 0, 0, 0,\n",
       "       0, 0, 0, 0, 0, 0, 0, 0, 0, 0, 0, 0, 0, 0, 0, 0, 0, 0, 0, 1, 0, 0,\n",
       "       0, 0, 0, 0, 0, 0, 0, 0, 0, 0, 1, 0, 0, 0, 0, 0, 0, 0, 0, 0, 0, 0,\n",
       "       0, 0, 0, 0, 0, 0, 1, 0, 0, 0, 0, 0, 0, 0, 0, 0, 0, 0, 0, 0, 0, 0,\n",
       "       0, 0, 0, 0, 0, 0, 0, 0, 0, 0, 0, 0, 0, 0, 0, 0, 0, 0, 1, 0, 0, 0,\n",
       "       0, 0, 0, 0, 0, 0, 0, 0, 0, 0, 0, 0, 0, 0, 1, 0, 0, 0, 0, 0, 0, 0,\n",
       "       0, 0, 0, 0, 0, 0, 0, 1, 0, 0, 0, 0, 0, 0, 0, 0, 0, 1, 0, 0, 0, 0,\n",
       "       0, 0, 0, 0, 0, 0, 0, 0, 0, 0, 0, 0, 0, 0, 0, 0, 0, 0, 0, 0, 0, 0,\n",
       "       0, 0, 0, 0, 0, 0, 0, 0, 0, 0, 0, 0, 0, 0, 0, 0, 0, 0, 0, 0, 0, 0,\n",
       "       0, 0, 0, 0, 0, 0, 0, 0, 0, 0, 0, 0, 0, 0, 0, 0, 0, 0, 0, 0, 0, 0,\n",
       "       1, 0, 0, 0, 0, 0, 0, 0, 0, 0, 0, 0, 0, 0, 0, 0, 0, 0, 0, 0, 0, 0,\n",
       "       0, 0, 0, 0, 0, 0, 0, 0, 0, 0, 0, 0, 0, 0, 0, 0, 0, 0, 0, 0, 0, 0,\n",
       "       0, 0, 0, 0, 0, 0, 0, 0, 0, 0, 0, 0, 0, 0, 0, 0, 0, 0, 0, 0, 0, 0,\n",
       "       0, 1, 0, 0, 0, 0, 0, 0, 0, 1, 0, 0, 0, 0, 0, 0, 0, 0, 0, 0, 0, 0,\n",
       "       0, 0, 0, 0, 0, 0, 0, 0, 0, 0, 0, 0, 0, 0, 0, 0, 0, 0, 0, 0, 0, 0,\n",
       "       0, 0, 0, 0, 1, 0, 0, 0, 0, 0, 0, 0, 0, 0, 0, 0, 0, 0, 0, 0, 0, 0,\n",
       "       0, 0, 0, 0, 0, 0, 0, 0, 0, 0, 0, 0, 1, 0, 0, 0, 0, 0, 0, 0, 0, 0,\n",
       "       1, 0, 0, 0, 0, 0, 0, 0, 1, 0, 0, 0, 0, 0, 0, 1, 0, 0, 0, 0, 0, 0,\n",
       "       0, 0, 0, 0, 0, 0, 0, 0, 0, 0, 0, 0, 0, 0, 0, 0, 0, 0, 0, 0, 0, 0,\n",
       "       0, 1, 0, 0, 0, 0, 0, 0, 0, 0, 0, 0, 0, 0, 0, 0, 0, 0, 0, 0, 0, 0,\n",
       "       0, 0, 0, 0, 0, 0, 1, 0, 0, 0, 0, 0, 0, 0, 0, 0, 0, 0, 0, 0, 0, 0,\n",
       "       0, 0, 0, 0, 0, 0, 1, 0, 0, 0, 0, 0, 0, 0, 0, 0, 0, 0, 0, 0, 0, 0,\n",
       "       0, 0, 0, 0, 0, 0, 0, 0, 0, 1, 0, 0, 0, 1, 0, 0, 0, 0, 0, 0, 0, 0,\n",
       "       0, 0, 0, 0, 0, 0, 0, 0, 0, 0, 0, 0, 0, 0, 0, 0, 0, 0, 0, 0, 0, 0,\n",
       "       0, 0, 1, 0, 0, 0, 0, 0, 0, 0, 0, 0, 0, 0, 0, 0, 0, 0, 0, 0, 0, 0,\n",
       "       0, 0, 0, 0, 0, 0, 0, 0, 0, 0, 0, 0, 0, 0, 0, 0, 0, 0, 0, 0, 0, 0,\n",
       "       0, 0, 0, 1, 0, 0, 0, 0, 0, 0])"
      ]
     },
     "execution_count": 12,
     "metadata": {},
     "output_type": "execute_result"
    }
   ],
   "source": [
    "pred2=np.where(np.around(data1_pred[:,1], decimals=4)>=0.4, 1, 0)\n",
    "pred2"
   ]
  },
  {
   "cell_type": "markdown",
   "metadata": {
    "id": "_Skvkv1836JH"
   },
   "source": [
    "## **Original 1000 Data points labels** "
   ]
  },
  {
   "cell_type": "code",
   "execution_count": 13,
   "metadata": {
    "colab": {
     "base_uri": "https://localhost:8080/"
    },
    "id": "I648Ncy7-_Xr",
    "outputId": "81026d72-b756-42b0-ea33-feaf8e1ca31e"
   },
   "outputs": [
    {
     "data": {
      "text/plain": [
       "array([0, 0, 0, 0, 1, 0, 1, 0, 0, 0, 0, 0, 0, 0, 0, 0, 0, 0, 0, 0, 0, 0,\n",
       "       0, 0, 0, 0, 0, 0, 0, 0, 0, 0, 0, 0, 0, 0, 1, 1, 0, 0, 0, 0, 0, 0,\n",
       "       0, 0, 0, 0, 0, 0, 0, 0, 0, 0, 0, 1, 1, 0, 0, 0, 0, 0, 0, 0, 0, 1,\n",
       "       0, 0, 0, 0, 0, 0, 0, 0, 0, 0, 0, 0, 0, 0, 0, 0, 1, 0, 0, 0, 0, 0,\n",
       "       0, 0, 0, 0, 0, 1, 0, 0, 1, 0, 0, 0, 0, 0, 0, 1, 0, 0, 0, 0, 0, 0,\n",
       "       0, 0, 0, 0, 0, 0, 0, 0, 0, 0, 0, 0, 0, 0, 0, 0, 0, 0, 0, 0, 0, 0,\n",
       "       0, 0, 0, 0, 0, 0, 0, 0, 0, 0, 0, 0, 1, 0, 0, 0, 1, 0, 0, 0, 0, 0,\n",
       "       1, 0, 0, 1, 0, 0, 0, 1, 0, 0, 0, 0, 0, 0, 1, 0, 0, 1, 0, 0, 0, 1,\n",
       "       0, 0, 0, 1, 0, 0, 0, 0, 0, 1, 0, 0, 0, 0, 0, 0, 0, 0, 0, 1, 0, 0,\n",
       "       0, 0, 0, 0, 0, 0, 0, 0, 0, 0, 0, 0, 0, 0, 1, 0, 0, 0, 0, 0, 0, 0,\n",
       "       0, 0, 1, 0, 0, 0, 0, 0, 0, 0, 0, 0, 0, 0, 0, 0, 0, 0, 0, 0, 0, 0,\n",
       "       0, 0, 0, 0, 0, 0, 1, 0, 0, 0, 0, 0, 0, 0, 0, 0, 1, 0, 0, 0, 0, 0,\n",
       "       0, 1, 0, 0, 0, 0, 0, 0, 0, 0, 0, 0, 0, 1, 0, 1, 0, 0, 0, 0, 1, 0,\n",
       "       0, 0, 0, 1, 0, 0, 0, 0, 0, 0, 0, 0, 0, 0, 0, 0, 0, 1, 0, 1, 0, 0,\n",
       "       0, 0, 0, 0, 0, 0, 0, 0, 0, 0, 0, 0, 1, 0, 0, 0, 0, 0, 0, 0, 0, 0,\n",
       "       0, 0, 0, 0, 0, 0, 0, 0, 0, 1, 0, 0, 0, 0, 0, 1, 0, 0, 0, 1, 0, 1,\n",
       "       0, 0, 0, 0, 0, 0, 0, 0, 0, 0, 0, 0, 0, 0, 0, 0, 0, 0, 0, 0, 0, 0,\n",
       "       0, 0, 0, 0, 0, 0, 0, 0, 0, 0, 0, 0, 0, 0, 0, 0, 0, 1, 1, 0, 0, 0,\n",
       "       0, 0, 0, 0, 0, 0, 0, 0, 0, 0, 0, 0, 0, 0, 0, 0, 0, 0, 0, 0, 0, 0,\n",
       "       0, 0, 0, 1, 0, 0, 0, 0, 0, 1, 0, 0, 0, 0, 0, 0, 0, 0, 0, 0, 0, 0,\n",
       "       0, 0, 0, 0, 0, 0, 0, 0, 0, 0, 0, 0, 0, 0, 0, 0, 0, 0, 0, 0, 0, 0,\n",
       "       0, 0, 0, 0, 0, 0, 0, 0, 0, 0, 1, 0, 0, 0, 0, 0, 0, 0, 0, 0, 0, 0,\n",
       "       0, 1, 0, 0, 1, 0, 1, 0, 0, 0, 0, 0, 0, 0, 0, 1, 0, 0, 0, 0, 0, 0,\n",
       "       0, 0, 1, 0, 0, 0, 0, 0, 0, 0, 0, 0, 0, 0, 0, 0, 0, 0, 0, 0, 0, 0,\n",
       "       0, 0, 0, 1, 0, 0, 0, 0, 0, 0, 0, 0, 0, 0, 1, 0, 0, 0, 0, 0, 0, 0,\n",
       "       0, 0, 0, 0, 0, 0, 0, 1, 0, 0, 0, 0, 1, 0, 0, 0, 0, 1, 0, 0, 0, 0,\n",
       "       0, 0, 0, 0, 0, 0, 0, 0, 0, 0, 0, 0, 0, 0, 0, 0, 0, 1, 0, 0, 0, 0,\n",
       "       0, 0, 0, 0, 0, 0, 0, 0, 0, 0, 0, 0, 0, 0, 0, 0, 0, 0, 0, 0, 0, 0,\n",
       "       0, 0, 0, 0, 0, 0, 0, 0, 0, 0, 0, 0, 0, 0, 0, 0, 0, 0, 0, 0, 0, 0,\n",
       "       1, 0, 0, 0, 0, 0, 0, 0, 0, 0, 0, 0, 0, 0, 0, 0, 0, 0, 0, 0, 0, 0,\n",
       "       0, 0, 0, 0, 0, 1, 0, 0, 0, 0, 0, 0, 0, 0, 0, 0, 0, 0, 0, 0, 0, 0,\n",
       "       0, 0, 0, 0, 0, 0, 0, 0, 0, 0, 0, 0, 0, 0, 0, 0, 0, 0, 0, 0, 0, 0,\n",
       "       0, 0, 0, 0, 0, 0, 0, 0, 0, 1, 0, 0, 0, 0, 0, 0, 0, 0, 0, 0, 0, 0,\n",
       "       0, 0, 1, 0, 0, 0, 0, 0, 0, 0, 1, 0, 1, 0, 1, 0, 0, 0, 0, 0, 0, 0,\n",
       "       1, 0, 0, 0, 1, 0, 0, 1, 0, 0, 0, 0, 0, 0, 0, 0, 0, 0, 0, 0, 0, 0,\n",
       "       0, 0, 0, 0, 0, 1, 0, 0, 0, 0, 1, 1, 1, 0, 0, 0, 0, 0, 0, 0, 0, 0,\n",
       "       0, 0, 0, 0, 1, 0, 0, 0, 0, 0, 0, 0, 0, 0, 0, 0, 0, 0, 0, 0, 0, 0,\n",
       "       0, 1, 0, 0, 0, 0, 0, 0, 0, 0, 0, 0, 0, 0, 0, 0, 0, 0, 0, 0, 0, 0,\n",
       "       0, 1, 0, 0, 0, 0, 0, 0, 0, 0, 0, 0, 0, 0, 0, 0, 0, 0, 0, 0, 0, 0,\n",
       "       0, 0, 0, 0, 0, 0, 1, 0, 0, 0, 0, 0, 0, 0, 0, 0, 0, 0, 0, 0, 0, 0,\n",
       "       0, 0, 0, 0, 0, 0, 0, 0, 0, 0, 0, 0, 0, 1, 0, 0, 0, 0, 0, 0, 0, 0,\n",
       "       0, 0, 1, 0, 0, 0, 0, 1, 0, 1, 0, 0, 0, 1, 0, 0, 0, 0, 0, 0, 0, 0,\n",
       "       0, 0, 0, 0, 1, 0, 0, 0, 0, 0, 1, 0, 0, 0, 0, 0, 0, 0, 0, 0, 0, 0,\n",
       "       0, 0, 1, 0, 0, 0, 0, 0, 0, 0, 0, 0, 0, 1, 0, 0, 0, 0, 0, 0, 0, 0,\n",
       "       0, 0, 0, 0, 0, 0, 0, 0, 0, 0, 0, 0, 0, 0, 0, 0, 0, 0, 0, 0, 0, 0,\n",
       "       0, 0, 0, 1, 0, 1, 0, 0, 0, 0])"
      ]
     },
     "execution_count": 13,
     "metadata": {},
     "output_type": "execute_result"
    }
   ],
   "source": [
    "np.array(y1)"
   ]
  },
  {
   "cell_type": "markdown",
   "metadata": {
    "id": "GjIaMC3oDduZ"
   },
   "source": [
    "# **Confusion matrix**"
   ]
  },
  {
   "cell_type": "code",
   "execution_count": 14,
   "metadata": {
    "id": "auD__XDL4X6L"
   },
   "outputs": [],
   "source": [
    "TP_index=[]\n",
    "FP_index=[]\n",
    "FN_index=[]\n",
    "TN_index=[]\n",
    "TP=0\n",
    "FP=0\n",
    "FN=0\n",
    "TN=0\n",
    "y1=np.array(y1)\n",
    "for i in range(len(y1)):\n",
    "  if pred1[i]==1 and y1[i]==1:\n",
    "    TP_index.append(i)\n",
    "    TP+=1\n",
    "  elif pred1[i]==1 and y1[i]==0:\n",
    "    FP_index.append(i)\n",
    "    FP+=1\n",
    "  elif pred1[i]==0 and y1[i]==1:\n",
    "    FN_index.append(i)\n",
    "    FN+=1\n",
    "  else:\n",
    "    TN_index.append(i)\n",
    "    TN+=1"
   ]
  },
  {
   "cell_type": "code",
   "execution_count": 15,
   "metadata": {
    "colab": {
     "base_uri": "https://localhost:8080/",
     "height": 312
    },
    "id": "8kqUENht68YH",
    "outputId": "98a84495-c623-4a96-dd74-19ede86da146"
   },
   "outputs": [
    {
     "data": {
      "text/plain": [
       "Text(0.5, 1.0, 'Confusion matrix')"
      ]
     },
     "execution_count": 15,
     "metadata": {},
     "output_type": "execute_result"
    },
    {
     "data": {
      "image/png": "[encoded data removed]",
      "text/plain": [
       "<Figure size 1440x288 with 2 Axes>"
      ]
     },
     "metadata": {
      "needs_background": "light"
     },
     "output_type": "display_data"
    }
   ],
   "source": [
    "C=np.array([[TN,FP],[FN,TP]])\n",
    "labels = [0,1]\n",
    "cmap=sns.light_palette(\"blue\")\n",
    "plt.figure(figsize=(20,4))\n",
    "plt.subplot(1, 3, 1)\n",
    "sns.heatmap(C, annot=True, cmap=cmap, fmt=\".3f\", xticklabels=labels, yticklabels=labels)\n",
    "plt.xlabel('Predicted Class')\n",
    "plt.ylabel('Original Class')\n",
    "plt.title(\"Confusion matrix\")"
   ]
  },
  {
   "cell_type": "code",
   "execution_count": 16,
   "metadata": {
    "colab": {
     "base_uri": "https://localhost:8080/"
    },
    "id": "KkLxBCRCDmmM",
    "outputId": "749ced05-9868-4bcb-ba59-9ca8e524dc03"
   },
   "outputs": [
    {
     "data": {
      "text/plain": [
       "10000"
      ]
     },
     "execution_count": 16,
     "metadata": {},
     "output_type": "execute_result"
    }
   ],
   "source": [
    "temp_tdf=X_train.copy()\n",
    "temp_tdf['target']=y_train\n",
    "toxic_comments=temp_tdf.loc[temp_tdf[\"target\"] == 1, :][\"comment_text\"]\n",
    "toxic_words=[word for word in list((toxic_comments.str.split(' ', expand=True).stack().value_counts()).index) if word not in STOPWORDS][:10000]\n",
    "len(toxic_words)"
   ]
  },
  {
   "cell_type": "code",
   "execution_count": 17,
   "metadata": {
    "id": "RRyIE7C5JJNy"
   },
   "outputs": [],
   "source": [
    "def toxic_word_count(text_data):\n",
    "  toxic_words_lst=[]\n",
    "  for doc in text_data:\n",
    "    count=0\n",
    "    for w in doc.split():\n",
    "      if w in toxic_words:\n",
    "        count+=1\n",
    "    toxic_words_lst.append(count)\n",
    "  return toxic_words_lst\n"
   ]
  },
  {
   "cell_type": "code",
   "execution_count": 18,
   "metadata": {
    "id": "u7gN2Yd98oE4"
   },
   "outputs": [],
   "source": [
    "def get_text(list_index):\n",
    "  temp_list=[]\n",
    "  for i in list_index:\n",
    "    temp_list.append(X_train['comment_text'].iloc[i])\n",
    "  return pd.DataFrame(temp_list,columns=['comment_text'])\n",
    "TP_text_df=get_text(TP_index)\n",
    "TN_text_df=get_text(TN_index)\n",
    "FN_text_df=get_text(FN_index)"
   ]
  },
  {
   "cell_type": "code",
   "execution_count": 19,
   "metadata": {
    "colab": {
     "base_uri": "https://localhost:8080/",
     "height": 206
    },
    "id": "EZEa1drwHUjY",
    "outputId": "698f630c-c9e4-4d70-acde-ba6a602ed45f"
   },
   "outputs": [
    {
     "data": {
      "text/html": [
       "<div>\n",
       "<style scoped>\n",
       "    .dataframe tbody tr th:only-of-type {\n",
       "        vertical-align: middle;\n",
       "    }\n",
       "\n",
       "    .dataframe tbody tr th {\n",
       "        vertical-align: top;\n",
       "    }\n",
       "\n",
       "    .dataframe thead th {\n",
       "        text-align: right;\n",
       "    }\n",
       "</style>\n",
       "<table border=\"1\" class=\"dataframe\">\n",
       "  <thead>\n",
       "    <tr style=\"text-align: right;\">\n",
       "      <th></th>\n",
       "      <th>comment_text</th>\n",
       "    </tr>\n",
       "  </thead>\n",
       "  <tbody>\n",
       "    <tr>\n",
       "      <th>0</th>\n",
       "      <td>yup hawaii looks stupid remember used money un...</td>\n",
       "    </tr>\n",
       "    <tr>\n",
       "      <th>1</th>\n",
       "      <td>mindless idiocy like undermines innovation saf...</td>\n",
       "    </tr>\n",
       "    <tr>\n",
       "      <th>2</th>\n",
       "      <td>crickets would come fact would not occurred fo...</td>\n",
       "    </tr>\n",
       "    <tr>\n",
       "      <th>3</th>\n",
       "      <td>grew marlon people thread using death politica...</td>\n",
       "    </tr>\n",
       "    <tr>\n",
       "      <th>4</th>\n",
       "      <td>laughable voted trump voted sexually abusing w...</td>\n",
       "    </tr>\n",
       "  </tbody>\n",
       "</table>\n",
       "</div>"
      ],
      "text/plain": [
       "                                        comment_text\n",
       "0  yup hawaii looks stupid remember used money un...\n",
       "1  mindless idiocy like undermines innovation saf...\n",
       "2  crickets would come fact would not occurred fo...\n",
       "3  grew marlon people thread using death politica...\n",
       "4  laughable voted trump voted sexually abusing w..."
      ]
     },
     "execution_count": 19,
     "metadata": {},
     "output_type": "execute_result"
    }
   ],
   "source": [
    "TP_text_df.head()"
   ]
  },
  {
   "cell_type": "code",
   "execution_count": 20,
   "metadata": {
    "colab": {
     "base_uri": "https://localhost:8080/"
    },
    "id": "KtnkO3ZCCGg6",
    "outputId": "5e2b585e-462c-4e22-e5b1-c2c798400ec7"
   },
   "outputs": [
    {
     "data": {
      "text/plain": [
       "array([[912,   5],\n",
       "       [ 51,  32]])"
      ]
     },
     "execution_count": 20,
     "metadata": {},
     "output_type": "execute_result"
    }
   ],
   "source": [
    "np.array([[TN,FP],[FN,TP]])"
   ]
  },
  {
   "cell_type": "markdown",
   "metadata": {
    "id": "efGuUQFi9Ahc"
   },
   "source": [
    "# **Advanced features from text data**"
   ]
  },
  {
   "cell_type": "code",
   "execution_count": 21,
   "metadata": {
    "id": "wq2GjZgEG0Fy"
   },
   "outputs": [],
   "source": [
    "uni_word_count=TP_text_df['comment_text'].apply(lambda x: len(set(w for w in x.split())))\n",
    "TP_text_df['no_of_unique_words']=uni_word_count\n",
    "\n",
    "#Adding number of words in a comment feature\n",
    "no_of_words=TP_text_df['comment_text'].str.split(' ').str.len()\n",
    "TP_text_df['word_count']=no_of_words\n",
    "\n",
    "#Adding number of toxic words from the top toxic words count\n",
    "TP_text_df['toxic_words_count']=toxic_word_count(TP_text_df['comment_text'])\n",
    "\n",
    "##########################################################################################################################\n",
    "uni_word_count=TN_text_df['comment_text'].apply(lambda x: len(set(w for w in x.split())))\n",
    "TN_text_df['no_of_unique_words']=uni_word_count\n",
    "\n",
    "#Adding number of words in a comment feature\n",
    "no_of_words=TN_text_df['comment_text'].str.split(' ').str.len()\n",
    "TN_text_df['word_count']=no_of_words\n",
    "\n",
    "#Adding number of toxic words from the top toxic words count\n",
    "TN_text_df['toxic_words_count']=toxic_word_count(TN_text_df['comment_text'])\n",
    "\n",
    "##########################################################################################################################\n",
    "uni_word_count=FN_text_df['comment_text'].apply(lambda x: len(set(w for w in x.split())))\n",
    "FN_text_df['no_of_unique_words']=uni_word_count\n",
    "\n",
    "#Adding number of words in a comment feature\n",
    "no_of_words=FN_text_df['comment_text'].str.split(' ').str.len()\n",
    "FN_text_df['word_count']=no_of_words\n",
    "\n",
    "#Adding number of toxic words from the top toxic words count\n",
    "FN_text_df['toxic_words_count']=toxic_word_count(FN_text_df['comment_text'])"
   ]
  },
  {
   "cell_type": "code",
   "execution_count": 22,
   "metadata": {
    "colab": {
     "base_uri": "https://localhost:8080/",
     "height": 520
    },
    "id": "V2lV5uvGINdS",
    "outputId": "89dfa1c6-c75f-4e5c-e01a-e9743b6e7f17"
   },
   "outputs": [
    {
     "data": {
      "text/html": [
       "<div>\n",
       "<style scoped>\n",
       "    .dataframe tbody tr th:only-of-type {\n",
       "        vertical-align: middle;\n",
       "    }\n",
       "\n",
       "    .dataframe tbody tr th {\n",
       "        vertical-align: top;\n",
       "    }\n",
       "\n",
       "    .dataframe thead th {\n",
       "        text-align: right;\n",
       "    }\n",
       "</style>\n",
       "<table border=\"1\" class=\"dataframe\">\n",
       "  <thead>\n",
       "    <tr style=\"text-align: right;\">\n",
       "      <th></th>\n",
       "      <th>comment_text</th>\n",
       "      <th>no_of_unique_words</th>\n",
       "      <th>word_count</th>\n",
       "      <th>toxic_words_count</th>\n",
       "    </tr>\n",
       "  </thead>\n",
       "  <tbody>\n",
       "    <tr>\n",
       "      <th>0</th>\n",
       "      <td>yup hawaii looks stupid remember used money un...</td>\n",
       "      <td>13</td>\n",
       "      <td>13</td>\n",
       "      <td>13</td>\n",
       "    </tr>\n",
       "    <tr>\n",
       "      <th>1</th>\n",
       "      <td>mindless idiocy like undermines innovation saf...</td>\n",
       "      <td>11</td>\n",
       "      <td>11</td>\n",
       "      <td>9</td>\n",
       "    </tr>\n",
       "    <tr>\n",
       "      <th>2</th>\n",
       "      <td>crickets would come fact would not occurred fo...</td>\n",
       "      <td>28</td>\n",
       "      <td>36</td>\n",
       "      <td>26</td>\n",
       "    </tr>\n",
       "    <tr>\n",
       "      <th>3</th>\n",
       "      <td>grew marlon people thread using death politica...</td>\n",
       "      <td>21</td>\n",
       "      <td>21</td>\n",
       "      <td>18</td>\n",
       "    </tr>\n",
       "    <tr>\n",
       "      <th>4</th>\n",
       "      <td>laughable voted trump voted sexually abusing w...</td>\n",
       "      <td>13</td>\n",
       "      <td>14</td>\n",
       "      <td>14</td>\n",
       "    </tr>\n",
       "    <tr>\n",
       "      <th>5</th>\n",
       "      <td>crapdum wrote jr smeared media spouts fake new...</td>\n",
       "      <td>30</td>\n",
       "      <td>32</td>\n",
       "      <td>25</td>\n",
       "    </tr>\n",
       "    <tr>\n",
       "      <th>6</th>\n",
       "      <td>dumbest pro life post ever still not decision ...</td>\n",
       "      <td>10</td>\n",
       "      <td>10</td>\n",
       "      <td>8</td>\n",
       "    </tr>\n",
       "    <tr>\n",
       "      <th>7</th>\n",
       "      <td>posts contribute meaningfully discussion topic...</td>\n",
       "      <td>11</td>\n",
       "      <td>11</td>\n",
       "      <td>10</td>\n",
       "    </tr>\n",
       "    <tr>\n",
       "      <th>8</th>\n",
       "      <td>kill dog football game anyone needs sacrificia...</td>\n",
       "      <td>13</td>\n",
       "      <td>13</td>\n",
       "      <td>11</td>\n",
       "    </tr>\n",
       "    <tr>\n",
       "      <th>9</th>\n",
       "      <td>sad think sweet little girl picture shrouded b...</td>\n",
       "      <td>15</td>\n",
       "      <td>15</td>\n",
       "      <td>13</td>\n",
       "    </tr>\n",
       "    <tr>\n",
       "      <th>10</th>\n",
       "      <td>used drown women see witches retarted</td>\n",
       "      <td>6</td>\n",
       "      <td>6</td>\n",
       "      <td>5</td>\n",
       "    </tr>\n",
       "    <tr>\n",
       "      <th>11</th>\n",
       "      <td>whoever made sick call locked away keys thrown...</td>\n",
       "      <td>10</td>\n",
       "      <td>12</td>\n",
       "      <td>12</td>\n",
       "    </tr>\n",
       "    <tr>\n",
       "      <th>12</th>\n",
       "      <td>fox paid 13 million heck many women came aisle...</td>\n",
       "      <td>24</td>\n",
       "      <td>25</td>\n",
       "      <td>22</td>\n",
       "    </tr>\n",
       "    <tr>\n",
       "      <th>13</th>\n",
       "      <td>plus stand ground law allow shoot miscreants dead</td>\n",
       "      <td>8</td>\n",
       "      <td>8</td>\n",
       "      <td>7</td>\n",
       "    </tr>\n",
       "    <tr>\n",
       "      <th>14</th>\n",
       "      <td>troll speaks evil misinformation aca works wel...</td>\n",
       "      <td>10</td>\n",
       "      <td>10</td>\n",
       "      <td>9</td>\n",
       "    </tr>\n",
       "  </tbody>\n",
       "</table>\n",
       "</div>"
      ],
      "text/plain": [
       "                                         comment_text  ...  toxic_words_count\n",
       "0   yup hawaii looks stupid remember used money un...  ...                 13\n",
       "1   mindless idiocy like undermines innovation saf...  ...                  9\n",
       "2   crickets would come fact would not occurred fo...  ...                 26\n",
       "3   grew marlon people thread using death politica...  ...                 18\n",
       "4   laughable voted trump voted sexually abusing w...  ...                 14\n",
       "5   crapdum wrote jr smeared media spouts fake new...  ...                 25\n",
       "6   dumbest pro life post ever still not decision ...  ...                  8\n",
       "7   posts contribute meaningfully discussion topic...  ...                 10\n",
       "8   kill dog football game anyone needs sacrificia...  ...                 11\n",
       "9   sad think sweet little girl picture shrouded b...  ...                 13\n",
       "10              used drown women see witches retarted  ...                  5\n",
       "11  whoever made sick call locked away keys thrown...  ...                 12\n",
       "12  fox paid 13 million heck many women came aisle...  ...                 22\n",
       "13  plus stand ground law allow shoot miscreants dead  ...                  7\n",
       "14  troll speaks evil misinformation aca works wel...  ...                  9\n",
       "\n",
       "[15 rows x 4 columns]"
      ]
     },
     "execution_count": 22,
     "metadata": {},
     "output_type": "execute_result"
    }
   ],
   "source": [
    "TP_text_df.head(15)"
   ]
  },
  {
   "cell_type": "code",
   "execution_count": 23,
   "metadata": {
    "colab": {
     "base_uri": "https://localhost:8080/",
     "height": 332
    },
    "id": "ZoNPGpfJIptN",
    "outputId": "41850c2a-e6b7-415d-fc78-992640ad5f00"
   },
   "outputs": [
    {
     "data": {
      "text/html": [
       "<div>\n",
       "<style scoped>\n",
       "    .dataframe tbody tr th:only-of-type {\n",
       "        vertical-align: middle;\n",
       "    }\n",
       "\n",
       "    .dataframe tbody tr th {\n",
       "        vertical-align: top;\n",
       "    }\n",
       "\n",
       "    .dataframe thead th {\n",
       "        text-align: right;\n",
       "    }\n",
       "</style>\n",
       "<table border=\"1\" class=\"dataframe\">\n",
       "  <thead>\n",
       "    <tr style=\"text-align: right;\">\n",
       "      <th></th>\n",
       "      <th>comment_text</th>\n",
       "      <th>no_of_unique_words</th>\n",
       "      <th>word_count</th>\n",
       "      <th>toxic_words_count</th>\n",
       "    </tr>\n",
       "  </thead>\n",
       "  <tbody>\n",
       "    <tr>\n",
       "      <th>0</th>\n",
       "      <td>reply solar power around 70 years great would ...</td>\n",
       "      <td>52</td>\n",
       "      <td>66</td>\n",
       "      <td>54</td>\n",
       "    </tr>\n",
       "    <tr>\n",
       "      <th>1</th>\n",
       "      <td>party thinks win carbon taxes dreaming climate...</td>\n",
       "      <td>43</td>\n",
       "      <td>45</td>\n",
       "      <td>41</td>\n",
       "    </tr>\n",
       "    <tr>\n",
       "      <th>2</th>\n",
       "      <td>notice not mention global warming presume need...</td>\n",
       "      <td>21</td>\n",
       "      <td>24</td>\n",
       "      <td>21</td>\n",
       "    </tr>\n",
       "    <tr>\n",
       "      <th>3</th>\n",
       "      <td>maybe schumer make effort civil likely never h...</td>\n",
       "      <td>11</td>\n",
       "      <td>11</td>\n",
       "      <td>11</td>\n",
       "    </tr>\n",
       "    <tr>\n",
       "      <th>4</th>\n",
       "      <td>would agree known factual evidence blacks citi...</td>\n",
       "      <td>60</td>\n",
       "      <td>71</td>\n",
       "      <td>67</td>\n",
       "    </tr>\n",
       "    <tr>\n",
       "      <th>5</th>\n",
       "      <td>north south navigation possible done called ai...</td>\n",
       "      <td>7</td>\n",
       "      <td>7</td>\n",
       "      <td>6</td>\n",
       "    </tr>\n",
       "    <tr>\n",
       "      <th>6</th>\n",
       "      <td>not logic false rather comprehension not state...</td>\n",
       "      <td>27</td>\n",
       "      <td>34</td>\n",
       "      <td>27</td>\n",
       "    </tr>\n",
       "    <tr>\n",
       "      <th>7</th>\n",
       "      <td>exactly</td>\n",
       "      <td>1</td>\n",
       "      <td>1</td>\n",
       "      <td>1</td>\n",
       "    </tr>\n",
       "    <tr>\n",
       "      <th>8</th>\n",
       "      <td>pay increases compete justify even outlandish ...</td>\n",
       "      <td>89</td>\n",
       "      <td>97</td>\n",
       "      <td>82</td>\n",
       "    </tr>\n",
       "  </tbody>\n",
       "</table>\n",
       "</div>"
      ],
      "text/plain": [
       "                                        comment_text  ...  toxic_words_count\n",
       "0  reply solar power around 70 years great would ...  ...                 54\n",
       "1  party thinks win carbon taxes dreaming climate...  ...                 41\n",
       "2  notice not mention global warming presume need...  ...                 21\n",
       "3  maybe schumer make effort civil likely never h...  ...                 11\n",
       "4  would agree known factual evidence blacks citi...  ...                 67\n",
       "5  north south navigation possible done called ai...  ...                  6\n",
       "6  not logic false rather comprehension not state...  ...                 27\n",
       "7                                            exactly  ...                  1\n",
       "8  pay increases compete justify even outlandish ...  ...                 82\n",
       "\n",
       "[9 rows x 4 columns]"
      ]
     },
     "execution_count": 23,
     "metadata": {},
     "output_type": "execute_result"
    }
   ],
   "source": [
    "TN_text_df.head(9)"
   ]
  },
  {
   "cell_type": "code",
   "execution_count": 24,
   "metadata": {
    "colab": {
     "base_uri": "https://localhost:8080/",
     "height": 332
    },
    "id": "m8bLvb-RIUi3",
    "outputId": "ccfb341c-e014-4b94-dbb7-ede767c05438"
   },
   "outputs": [
    {
     "data": {
      "text/html": [
       "<div>\n",
       "<style scoped>\n",
       "    .dataframe tbody tr th:only-of-type {\n",
       "        vertical-align: middle;\n",
       "    }\n",
       "\n",
       "    .dataframe tbody tr th {\n",
       "        vertical-align: top;\n",
       "    }\n",
       "\n",
       "    .dataframe thead th {\n",
       "        text-align: right;\n",
       "    }\n",
       "</style>\n",
       "<table border=\"1\" class=\"dataframe\">\n",
       "  <thead>\n",
       "    <tr style=\"text-align: right;\">\n",
       "      <th></th>\n",
       "      <th>comment_text</th>\n",
       "      <th>no_of_unique_words</th>\n",
       "      <th>word_count</th>\n",
       "      <th>toxic_words_count</th>\n",
       "    </tr>\n",
       "  </thead>\n",
       "  <tbody>\n",
       "    <tr>\n",
       "      <th>0</th>\n",
       "      <td>im not sure people willfully ignorant experien...</td>\n",
       "      <td>68</td>\n",
       "      <td>80</td>\n",
       "      <td>64</td>\n",
       "    </tr>\n",
       "    <tr>\n",
       "      <th>1</th>\n",
       "      <td>crapplebees got run town boulder years ago im ...</td>\n",
       "      <td>18</td>\n",
       "      <td>18</td>\n",
       "      <td>15</td>\n",
       "    </tr>\n",
       "    <tr>\n",
       "      <th>2</th>\n",
       "      <td>apparently not hear condemning white supremaci...</td>\n",
       "      <td>11</td>\n",
       "      <td>11</td>\n",
       "      <td>9</td>\n",
       "    </tr>\n",
       "    <tr>\n",
       "      <th>3</th>\n",
       "      <td>yeah bill damn lefties got alec baldwin get to...</td>\n",
       "      <td>22</td>\n",
       "      <td>23</td>\n",
       "      <td>19</td>\n",
       "    </tr>\n",
       "    <tr>\n",
       "      <th>4</th>\n",
       "      <td>stay sas michevious cocky tongue cheek attitud...</td>\n",
       "      <td>12</td>\n",
       "      <td>12</td>\n",
       "      <td>9</td>\n",
       "    </tr>\n",
       "    <tr>\n",
       "      <th>5</th>\n",
       "      <td>yeah right years birtherism not racialy motiva...</td>\n",
       "      <td>79</td>\n",
       "      <td>94</td>\n",
       "      <td>76</td>\n",
       "    </tr>\n",
       "    <tr>\n",
       "      <th>6</th>\n",
       "      <td>story big lie gas supply fine even states goug...</td>\n",
       "      <td>18</td>\n",
       "      <td>18</td>\n",
       "      <td>14</td>\n",
       "    </tr>\n",
       "    <tr>\n",
       "      <th>7</th>\n",
       "      <td>grateful good lord watched us yep jesus watchi...</td>\n",
       "      <td>18</td>\n",
       "      <td>18</td>\n",
       "      <td>17</td>\n",
       "    </tr>\n",
       "    <tr>\n",
       "      <th>8</th>\n",
       "      <td>like torpedo heart george weigel inc usccb esp...</td>\n",
       "      <td>24</td>\n",
       "      <td>24</td>\n",
       "      <td>18</td>\n",
       "    </tr>\n",
       "  </tbody>\n",
       "</table>\n",
       "</div>"
      ],
      "text/plain": [
       "                                        comment_text  ...  toxic_words_count\n",
       "0  im not sure people willfully ignorant experien...  ...                 64\n",
       "1  crapplebees got run town boulder years ago im ...  ...                 15\n",
       "2  apparently not hear condemning white supremaci...  ...                  9\n",
       "3  yeah bill damn lefties got alec baldwin get to...  ...                 19\n",
       "4  stay sas michevious cocky tongue cheek attitud...  ...                  9\n",
       "5  yeah right years birtherism not racialy motiva...  ...                 76\n",
       "6  story big lie gas supply fine even states goug...  ...                 14\n",
       "7  grateful good lord watched us yep jesus watchi...  ...                 17\n",
       "8  like torpedo heart george weigel inc usccb esp...  ...                 18\n",
       "\n",
       "[9 rows x 4 columns]"
      ]
     },
     "execution_count": 24,
     "metadata": {},
     "output_type": "execute_result"
    }
   ],
   "source": [
    "FN_text_df.head(9)"
   ]
  },
  {
   "cell_type": "code",
   "execution_count": 26,
   "metadata": {
    "colab": {
     "base_uri": "https://localhost:8080/",
     "height": 498
    },
    "id": "XX-reY-_ODpF",
    "outputId": "d0aadab8-4388-4ecd-8a12-14927c49028c"
   },
   "outputs": [
    {
     "data": {
      "image/png": "[encoded data removed]",
      "text/plain": [
       "<Figure size 864x576 with 3 Axes>"
      ]
     },
     "metadata": {
      "needs_background": "light"
     },
     "output_type": "display_data"
    }
   ],
   "source": [
    "plt.figure(figsize=(12, 8))\n",
    "plt.subplot(1,3,1)\n",
    "sns.distplot(TN_text_df['word_count'] , label = \"1\", color = 'red',hist=False)\n",
    "sns.distplot(FN_text_df['word_count'] , label = \"0\" , color = 'blue' ,hist=False)\n",
    "plt.legend(labels=['TN','FN'])\n",
    "\n",
    "plt.subplot(1,3,2)\n",
    "sns.distplot(TN_text_df['no_of_unique_words'] , label = \"1\", color = 'red',hist=False)\n",
    "sns.distplot(FN_text_df['no_of_unique_words'] , label = \"0\" , color = 'blue' ,hist=False)\n",
    "plt.legend(labels=['TN','FN'])\n",
    "\n",
    "plt.subplot(1,3,3)\n",
    "sns.distplot(TN_text_df['toxic_words_count'] , label = \"1\", color = 'red',hist=False)\n",
    "sns.distplot(FN_text_df['toxic_words_count'] , label = \"0\" , color = 'blue' ,hist=False)\n",
    "plt.legend(labels=['TN','FN'])\n",
    "plt.show()"
   ]
  },
  {
   "cell_type": "code",
   "execution_count": 27,
   "metadata": {
    "colab": {
     "base_uri": "https://localhost:8080/",
     "height": 498
    },
    "id": "YtUC6TLWPPPc",
    "outputId": "63e7091f-e048-4164-c9cf-67e4a8d908f6"
   },
   "outputs": [
    {
     "data": {
      "image/png": "[encoded data removed]",
      "text/plain": [
       "<Figure size 864x576 with 3 Axes>"
      ]
     },
     "metadata": {
      "needs_background": "light"
     },
     "output_type": "display_data"
    }
   ],
   "source": [
    "plt.figure(figsize=(12, 8))\n",
    "plt.subplot(1,3,1)\n",
    "sns.distplot(TP_text_df['word_count'] , label = \"1\", color = 'red',hist=False)\n",
    "sns.distplot(FN_text_df['word_count'] , label = \"0\" , color = 'blue' ,hist=False)\n",
    "plt.legend(labels=['TP','FN'])\n",
    "\n",
    "plt.subplot(1,3,2)\n",
    "sns.distplot(TP_text_df['no_of_unique_words'] , label = \"1\", color = 'red',hist=False)\n",
    "sns.distplot(FN_text_df['no_of_unique_words'] , label = \"0\" , color = 'blue' ,hist=False)\n",
    "plt.legend(labels=['TP','FN'])\n",
    "\n",
    "plt.subplot(1,3,3)\n",
    "sns.distplot(TP_text_df['toxic_words_count'] , label = \"1\", color = 'red',hist=False)\n",
    "sns.distplot(FN_text_df['toxic_words_count'] , label = \"0\" , color = 'blue' ,hist=False)\n",
    "plt.legend(labels=['TP','FN'])\n",
    "plt.show()"
   ]
  },
  {
   "cell_type": "code",
   "execution_count": 28,
   "metadata": {
    "colab": {
     "base_uri": "https://localhost:8080/",
     "height": 498
    },
    "id": "tfc2lR58cPFc",
    "outputId": "364b1f1d-e958-4de7-a064-19e872e7179f"
   },
   "outputs": [
    {
     "data": {
      "image/png": "[encoded data removed]",
      "text/plain": [
       "<Figure size 864x576 with 3 Axes>"
      ]
     },
     "metadata": {
      "needs_background": "light"
     },
     "output_type": "display_data"
    }
   ],
   "source": [
    "plt.figure(figsize=(12, 8))\n",
    "plt.subplot(1,3,1)\n",
    "sns.distplot(TP_text_df['word_count'] , label = \"1\", color = 'red',hist=False)\n",
    "sns.distplot(TN_text_df['word_count'] , label = \"0\" , color = 'blue' ,hist=False)\n",
    "plt.legend(labels=['TP','TN'])\n",
    "\n",
    "plt.subplot(1,3,2)\n",
    "sns.distplot(TP_text_df['no_of_unique_words'] , label = \"1\", color = 'red',hist=False)\n",
    "sns.distplot(TN_text_df['no_of_unique_words'] , label = \"0\" , color = 'blue' ,hist=False)\n",
    "plt.legend(labels=['TP','TN'])\n",
    "\n",
    "plt.subplot(1,3,3)\n",
    "sns.distplot(TP_text_df['toxic_words_count'] , label = \"1\", color = 'red',hist=False)\n",
    "sns.distplot(TN_text_df['toxic_words_count'] , label = \"0\" , color = 'blue' ,hist=False)\n",
    "plt.legend(labels=['TP','TN'])\n",
    "plt.show()"
   ]
  },
  {
   "cell_type": "code",
   "execution_count": 29,
   "metadata": {
    "colab": {
     "base_uri": "https://localhost:8080/",
     "height": 271
    },
    "id": "FP7XpaAYQFVz",
    "outputId": "89ec3a12-ea80-4605-f644-f8377018a197"
   },
   "outputs": [
    {
     "data": {
      "text/plain": [
       "<matplotlib.axes._subplots.AxesSubplot at 0x7f3103a0e9d0>"
      ]
     },
     "execution_count": 29,
     "metadata": {},
     "output_type": "execute_result"
    },
    {
     "data": {
      "image/png": "[encoded data removed]",
      "text/plain": [
       "<Figure size 432x288 with 1 Axes>"
      ]
     },
     "metadata": {
      "needs_background": "light"
     },
     "output_type": "display_data"
    }
   ],
   "source": [
    "sns.boxplot(y=TP_text_df['no_of_unique_words'])"
   ]
  },
  {
   "cell_type": "code",
   "execution_count": 30,
   "metadata": {
    "colab": {
     "base_uri": "https://localhost:8080/",
     "height": 269
    },
    "id": "gcjEWFN6P0Gk",
    "outputId": "ae7e58b4-cbd1-4c38-9da3-3e6c63582b7d"
   },
   "outputs": [
    {
     "data": {
      "text/plain": [
       "<matplotlib.axes._subplots.AxesSubplot at 0x7f3102134610>"
      ]
     },
     "execution_count": 30,
     "metadata": {},
     "output_type": "execute_result"
    },
    {
     "data": {
      "image/png": "[encoded data removed]",
      "text/plain": [
       "<Figure size 432x288 with 1 Axes>"
      ]
     },
     "metadata": {
      "needs_background": "light"
     },
     "output_type": "display_data"
    }
   ],
   "source": [
    "sns.boxplot(y=TN_text_df['no_of_unique_words'])"
   ]
  },
  {
   "cell_type": "code",
   "execution_count": 31,
   "metadata": {
    "colab": {
     "base_uri": "https://localhost:8080/",
     "height": 269
    },
    "id": "LXz41i1wP7Oz",
    "outputId": "1d85efb7-f350-417f-f827-630a148370df"
   },
   "outputs": [
    {
     "data": {
      "text/plain": [
       "<matplotlib.axes._subplots.AxesSubplot at 0x7f31039f7110>"
      ]
     },
     "execution_count": 31,
     "metadata": {},
     "output_type": "execute_result"
    },
    {
     "data": {
      "image/png": "[encoded data removed]",
      "text/plain": [
       "<Figure size 432x288 with 1 Axes>"
      ]
     },
     "metadata": {
      "needs_background": "light"
     },
     "output_type": "display_data"
    }
   ],
   "source": [
    "sns.boxplot(y=FN_text_df['no_of_unique_words'])"
   ]
  },
  {
   "cell_type": "code",
   "execution_count": 32,
   "metadata": {
    "id": "40edGs_hRnSX"
   },
   "outputs": [],
   "source": [
    "# stronging variables into pickle files python: http://www.jessicayung.com/how-to-use-pickle-to-save-and-load-variables-in-python/\n",
    "# make sure you have the glove_vectors file\n",
    "with open('/content/drive/MyDrive/Work_files/glove_vectors', 'rb') as f:\n",
    "    model = pickle.load(f)\n",
    "    glove_words =  set(model.keys())"
   ]
  },
  {
   "cell_type": "code",
   "execution_count": 33,
   "metadata": {
    "id": "C8OsOr4ITscq"
   },
   "outputs": [],
   "source": [
    "tfidf_model_uni = TfidfVectorizer(max_features=150000)\n",
    "tfidf_model_uni.fit_transform(X_train['comment_text'])\n",
    "dictionary = dict(zip(tfidf_model_uni.get_feature_names(), list(tfidf_model_uni.idf_)))\n",
    "tfidf_words_uni = set(tfidf_model_uni.get_feature_names())"
   ]
  },
  {
   "cell_type": "code",
   "execution_count": 34,
   "metadata": {
    "colab": {
     "base_uri": "https://localhost:8080/"
    },
    "id": "HSQnseGehrX4",
    "outputId": "862bb9c6-fe92-48aa-d333-0bef894e5d96"
   },
   "outputs": [
    {
     "data": {
      "text/plain": [
       "150000"
      ]
     },
     "execution_count": 34,
     "metadata": {},
     "output_type": "execute_result"
    }
   ],
   "source": [
    "len(tfidf_words_uni)"
   ]
  },
  {
   "cell_type": "code",
   "execution_count": 35,
   "metadata": {
    "id": "TmgIhqqGYD9P"
   },
   "outputs": [],
   "source": [
    "# average Word2Vec\n",
    "# compute average word2vec for each review.\n",
    "def tfidf_w2v(tw_data,tfidf_words):\n",
    "  tfidf_w2v_vectors = []; # the avg-w2v for each sentence/review is stored in this list\n",
    "  for sentence in tqdm(tw_data): # for each review/sentence\n",
    "      vector = np.zeros(300) # as word vectors are of zero length\n",
    "      tf_idf_weight =0; # num of words with a valid vector in the sentence/review\n",
    "      for word in sentence.split(): # for each word in a review/sentence\n",
    "          if (word in glove_words) and (word in tfidf_words):\n",
    "              vec = model[word] # getting the vector for each word\n",
    "              # here we are multiplying idf value(dictionary[word]) and the tf value((sentence.count(word)/len(sentence.split())))\n",
    "              tf_idf = dictionary[word]*(sentence.count(word)/len(sentence.split())) # getting the tfidf value for each word\n",
    "              vector += (vec * tf_idf) # calculating tfidf weighted w2v\n",
    "              tf_idf_weight += tf_idf\n",
    "      if tf_idf_weight != 0:\n",
    "          vector /= tf_idf_weight\n",
    "      tfidf_w2v_vectors.append(vector)\n",
    "  return tfidf_w2v_vectors\n"
   ]
  },
  {
   "cell_type": "code",
   "execution_count": 36,
   "metadata": {
    "id": "Btco4mvjV_4O"
   },
   "outputs": [],
   "source": [
    "# def genearte_col(df):\n",
    "X_train_1000=pd.DataFrame(original_X_train_1000)\n",
    "new_column=[]\n",
    "for i in range(len(X_train_1000)):\n",
    "  if i in TP_index:\n",
    "    new_column.append('TP')\n",
    "  elif i in TN_index:\n",
    "    new_column.append('TN')\n",
    "  elif i in FN_index:\n",
    "    new_column.append('FN')\n",
    "  else:\n",
    "    new_column.append('FP')\n",
    "X_train_1000['new_column']=new_column"
   ]
  },
  {
   "cell_type": "code",
   "execution_count": 37,
   "metadata": {
    "colab": {
     "base_uri": "https://localhost:8080/",
     "height": 206
    },
    "id": "NtDClbpQa9Jx",
    "outputId": "236b1254-9d3e-4ae0-c07c-4c8b81762a59"
   },
   "outputs": [
    {
     "data": {
      "text/html": [
       "<div>\n",
       "<style scoped>\n",
       "    .dataframe tbody tr th:only-of-type {\n",
       "        vertical-align: middle;\n",
       "    }\n",
       "\n",
       "    .dataframe tbody tr th {\n",
       "        vertical-align: top;\n",
       "    }\n",
       "\n",
       "    .dataframe thead th {\n",
       "        text-align: right;\n",
       "    }\n",
       "</style>\n",
       "<table border=\"1\" class=\"dataframe\">\n",
       "  <thead>\n",
       "    <tr style=\"text-align: right;\">\n",
       "      <th></th>\n",
       "      <th>comment_text</th>\n",
       "      <th>new_column</th>\n",
       "    </tr>\n",
       "  </thead>\n",
       "  <tbody>\n",
       "    <tr>\n",
       "      <th>369772</th>\n",
       "      <td>reply solar power around 70 years great would ...</td>\n",
       "      <td>TN</td>\n",
       "    </tr>\n",
       "    <tr>\n",
       "      <th>634793</th>\n",
       "      <td>party thinks win carbon taxes dreaming climate...</td>\n",
       "      <td>TN</td>\n",
       "    </tr>\n",
       "    <tr>\n",
       "      <th>964708</th>\n",
       "      <td>notice not mention global warming presume need...</td>\n",
       "      <td>TN</td>\n",
       "    </tr>\n",
       "    <tr>\n",
       "      <th>1061887</th>\n",
       "      <td>maybe schumer make effort civil likely never h...</td>\n",
       "      <td>TN</td>\n",
       "    </tr>\n",
       "    <tr>\n",
       "      <th>1020920</th>\n",
       "      <td>im not sure people willfully ignorant experien...</td>\n",
       "      <td>FN</td>\n",
       "    </tr>\n",
       "  </tbody>\n",
       "</table>\n",
       "</div>"
      ],
      "text/plain": [
       "                                              comment_text new_column\n",
       "369772   reply solar power around 70 years great would ...         TN\n",
       "634793   party thinks win carbon taxes dreaming climate...         TN\n",
       "964708   notice not mention global warming presume need...         TN\n",
       "1061887  maybe schumer make effort civil likely never h...         TN\n",
       "1020920  im not sure people willfully ignorant experien...         FN"
      ]
     },
     "execution_count": 37,
     "metadata": {},
     "output_type": "execute_result"
    }
   ],
   "source": [
    "X_train_1000.head()"
   ]
  },
  {
   "cell_type": "code",
   "execution_count": 38,
   "metadata": {
    "colab": {
     "base_uri": "https://localhost:8080/"
    },
    "id": "tJsSOe7UNJ0P",
    "outputId": "d6785d16-7012-453f-d073-89db723de702"
   },
   "outputs": [
    {
     "name": "stderr",
     "output_type": "stream",
     "text": [
      "100%|██████████| 1000/1000 [00:00<00:00, 3784.27it/s]\n"
     ]
    }
   ],
   "source": [
    "plot_df=tfidf_w2v(X_train_1000['comment_text'],tfidf_words_uni)"
   ]
  },
  {
   "cell_type": "code",
   "execution_count": 39,
   "metadata": {
    "id": "2eip6jSmi-jw"
   },
   "outputs": [],
   "source": [
    "plot_df=pd.DataFrame(plot_df)"
   ]
  },
  {
   "cell_type": "code",
   "execution_count": 40,
   "metadata": {
    "colab": {
     "base_uri": "https://localhost:8080/",
     "height": 256
    },
    "id": "z-mwQOUkRqRp",
    "outputId": "f2ac9bec-673c-49de-b975-fd0bd3862c11"
   },
   "outputs": [
    {
     "data": {
      "text/html": [
       "<div>\n",
       "<style scoped>\n",
       "    .dataframe tbody tr th:only-of-type {\n",
       "        vertical-align: middle;\n",
       "    }\n",
       "\n",
       "    .dataframe tbody tr th {\n",
       "        vertical-align: top;\n",
       "    }\n",
       "\n",
       "    .dataframe thead th {\n",
       "        text-align: right;\n",
       "    }\n",
       "</style>\n",
       "<table border=\"1\" class=\"dataframe\">\n",
       "  <thead>\n",
       "    <tr style=\"text-align: right;\">\n",
       "      <th></th>\n",
       "      <th>0</th>\n",
       "      <th>1</th>\n",
       "      <th>2</th>\n",
       "      <th>3</th>\n",
       "      <th>4</th>\n",
       "      <th>5</th>\n",
       "      <th>6</th>\n",
       "      <th>7</th>\n",
       "      <th>8</th>\n",
       "      <th>9</th>\n",
       "      <th>10</th>\n",
       "      <th>11</th>\n",
       "      <th>12</th>\n",
       "      <th>13</th>\n",
       "      <th>14</th>\n",
       "      <th>15</th>\n",
       "      <th>16</th>\n",
       "      <th>17</th>\n",
       "      <th>18</th>\n",
       "      <th>19</th>\n",
       "      <th>20</th>\n",
       "      <th>21</th>\n",
       "      <th>22</th>\n",
       "      <th>23</th>\n",
       "      <th>24</th>\n",
       "      <th>25</th>\n",
       "      <th>26</th>\n",
       "      <th>27</th>\n",
       "      <th>28</th>\n",
       "      <th>29</th>\n",
       "      <th>30</th>\n",
       "      <th>31</th>\n",
       "      <th>32</th>\n",
       "      <th>33</th>\n",
       "      <th>34</th>\n",
       "      <th>35</th>\n",
       "      <th>36</th>\n",
       "      <th>37</th>\n",
       "      <th>38</th>\n",
       "      <th>39</th>\n",
       "      <th>...</th>\n",
       "      <th>260</th>\n",
       "      <th>261</th>\n",
       "      <th>262</th>\n",
       "      <th>263</th>\n",
       "      <th>264</th>\n",
       "      <th>265</th>\n",
       "      <th>266</th>\n",
       "      <th>267</th>\n",
       "      <th>268</th>\n",
       "      <th>269</th>\n",
       "      <th>270</th>\n",
       "      <th>271</th>\n",
       "      <th>272</th>\n",
       "      <th>273</th>\n",
       "      <th>274</th>\n",
       "      <th>275</th>\n",
       "      <th>276</th>\n",
       "      <th>277</th>\n",
       "      <th>278</th>\n",
       "      <th>279</th>\n",
       "      <th>280</th>\n",
       "      <th>281</th>\n",
       "      <th>282</th>\n",
       "      <th>283</th>\n",
       "      <th>284</th>\n",
       "      <th>285</th>\n",
       "      <th>286</th>\n",
       "      <th>287</th>\n",
       "      <th>288</th>\n",
       "      <th>289</th>\n",
       "      <th>290</th>\n",
       "      <th>291</th>\n",
       "      <th>292</th>\n",
       "      <th>293</th>\n",
       "      <th>294</th>\n",
       "      <th>295</th>\n",
       "      <th>296</th>\n",
       "      <th>297</th>\n",
       "      <th>298</th>\n",
       "      <th>299</th>\n",
       "    </tr>\n",
       "  </thead>\n",
       "  <tbody>\n",
       "    <tr>\n",
       "      <th>0</th>\n",
       "      <td>0.056019</td>\n",
       "      <td>0.070332</td>\n",
       "      <td>-0.082988</td>\n",
       "      <td>-0.087384</td>\n",
       "      <td>-0.007180</td>\n",
       "      <td>0.085643</td>\n",
       "      <td>-2.690446</td>\n",
       "      <td>0.195397</td>\n",
       "      <td>-0.112499</td>\n",
       "      <td>-0.098804</td>\n",
       "      <td>-0.149919</td>\n",
       "      <td>-0.004929</td>\n",
       "      <td>-0.080130</td>\n",
       "      <td>-0.116788</td>\n",
       "      <td>0.068621</td>\n",
       "      <td>0.049292</td>\n",
       "      <td>-0.107341</td>\n",
       "      <td>-0.188986</td>\n",
       "      <td>-0.157830</td>\n",
       "      <td>0.028009</td>\n",
       "      <td>0.099071</td>\n",
       "      <td>0.082591</td>\n",
       "      <td>-0.132897</td>\n",
       "      <td>0.277592</td>\n",
       "      <td>-0.070041</td>\n",
       "      <td>0.015019</td>\n",
       "      <td>-0.020776</td>\n",
       "      <td>0.121802</td>\n",
       "      <td>0.034931</td>\n",
       "      <td>-0.016987</td>\n",
       "      <td>-0.284509</td>\n",
       "      <td>0.026095</td>\n",
       "      <td>-0.013702</td>\n",
       "      <td>-0.062214</td>\n",
       "      <td>-0.048629</td>\n",
       "      <td>0.032715</td>\n",
       "      <td>0.090457</td>\n",
       "      <td>0.060070</td>\n",
       "      <td>0.146315</td>\n",
       "      <td>-0.053719</td>\n",
       "      <td>...</td>\n",
       "      <td>-0.006165</td>\n",
       "      <td>0.008297</td>\n",
       "      <td>0.144228</td>\n",
       "      <td>-0.132924</td>\n",
       "      <td>0.077951</td>\n",
       "      <td>-0.142550</td>\n",
       "      <td>0.058617</td>\n",
       "      <td>0.124681</td>\n",
       "      <td>0.116520</td>\n",
       "      <td>-0.027236</td>\n",
       "      <td>0.018813</td>\n",
       "      <td>0.034073</td>\n",
       "      <td>0.012162</td>\n",
       "      <td>-0.132358</td>\n",
       "      <td>0.081199</td>\n",
       "      <td>0.014428</td>\n",
       "      <td>0.049647</td>\n",
       "      <td>-0.002584</td>\n",
       "      <td>-0.118281</td>\n",
       "      <td>-0.052397</td>\n",
       "      <td>0.151075</td>\n",
       "      <td>-0.005647</td>\n",
       "      <td>-0.149247</td>\n",
       "      <td>-0.024279</td>\n",
       "      <td>0.076747</td>\n",
       "      <td>0.080429</td>\n",
       "      <td>0.182754</td>\n",
       "      <td>-0.063242</td>\n",
       "      <td>-0.135652</td>\n",
       "      <td>-0.007082</td>\n",
       "      <td>0.064257</td>\n",
       "      <td>-0.067968</td>\n",
       "      <td>-0.040958</td>\n",
       "      <td>-0.301852</td>\n",
       "      <td>0.017042</td>\n",
       "      <td>-0.145200</td>\n",
       "      <td>-0.124598</td>\n",
       "      <td>0.132732</td>\n",
       "      <td>0.205851</td>\n",
       "      <td>0.030703</td>\n",
       "    </tr>\n",
       "    <tr>\n",
       "      <th>1</th>\n",
       "      <td>-0.077072</td>\n",
       "      <td>0.195257</td>\n",
       "      <td>0.015730</td>\n",
       "      <td>-0.024489</td>\n",
       "      <td>-0.118119</td>\n",
       "      <td>0.099434</td>\n",
       "      <td>-2.973456</td>\n",
       "      <td>0.179459</td>\n",
       "      <td>0.135972</td>\n",
       "      <td>-0.213933</td>\n",
       "      <td>-0.011141</td>\n",
       "      <td>0.044535</td>\n",
       "      <td>-0.026111</td>\n",
       "      <td>-0.149144</td>\n",
       "      <td>-0.115417</td>\n",
       "      <td>0.053606</td>\n",
       "      <td>-0.082623</td>\n",
       "      <td>0.116863</td>\n",
       "      <td>0.021309</td>\n",
       "      <td>-0.027687</td>\n",
       "      <td>0.261720</td>\n",
       "      <td>-0.120829</td>\n",
       "      <td>-0.002455</td>\n",
       "      <td>0.060226</td>\n",
       "      <td>-0.024357</td>\n",
       "      <td>0.057951</td>\n",
       "      <td>-0.048158</td>\n",
       "      <td>-0.020674</td>\n",
       "      <td>0.121401</td>\n",
       "      <td>-0.018587</td>\n",
       "      <td>-0.286207</td>\n",
       "      <td>0.143661</td>\n",
       "      <td>0.178470</td>\n",
       "      <td>-0.040983</td>\n",
       "      <td>-0.033946</td>\n",
       "      <td>0.061817</td>\n",
       "      <td>-0.118756</td>\n",
       "      <td>-0.031140</td>\n",
       "      <td>-0.051119</td>\n",
       "      <td>0.078211</td>\n",
       "      <td>...</td>\n",
       "      <td>0.025353</td>\n",
       "      <td>-0.079586</td>\n",
       "      <td>0.042326</td>\n",
       "      <td>-0.127591</td>\n",
       "      <td>-0.085369</td>\n",
       "      <td>0.074340</td>\n",
       "      <td>0.016597</td>\n",
       "      <td>-0.038978</td>\n",
       "      <td>0.131335</td>\n",
       "      <td>0.106290</td>\n",
       "      <td>0.056689</td>\n",
       "      <td>-0.011614</td>\n",
       "      <td>-0.079564</td>\n",
       "      <td>-0.136304</td>\n",
       "      <td>-0.054952</td>\n",
       "      <td>-0.105592</td>\n",
       "      <td>0.084329</td>\n",
       "      <td>-0.056507</td>\n",
       "      <td>-0.011226</td>\n",
       "      <td>-0.009863</td>\n",
       "      <td>0.355899</td>\n",
       "      <td>-0.034317</td>\n",
       "      <td>0.028635</td>\n",
       "      <td>0.046647</td>\n",
       "      <td>0.034419</td>\n",
       "      <td>-0.063386</td>\n",
       "      <td>0.001538</td>\n",
       "      <td>0.099607</td>\n",
       "      <td>-0.098191</td>\n",
       "      <td>-0.136407</td>\n",
       "      <td>-0.071524</td>\n",
       "      <td>-0.012139</td>\n",
       "      <td>-0.001635</td>\n",
       "      <td>-0.051368</td>\n",
       "      <td>-0.017984</td>\n",
       "      <td>0.028194</td>\n",
       "      <td>-0.063064</td>\n",
       "      <td>-0.008392</td>\n",
       "      <td>0.172069</td>\n",
       "      <td>0.058381</td>\n",
       "    </tr>\n",
       "    <tr>\n",
       "      <th>2</th>\n",
       "      <td>-0.004378</td>\n",
       "      <td>-0.015556</td>\n",
       "      <td>0.085505</td>\n",
       "      <td>-0.165229</td>\n",
       "      <td>-0.022234</td>\n",
       "      <td>0.067203</td>\n",
       "      <td>-3.197140</td>\n",
       "      <td>0.372779</td>\n",
       "      <td>0.059429</td>\n",
       "      <td>-0.200026</td>\n",
       "      <td>0.093344</td>\n",
       "      <td>0.038257</td>\n",
       "      <td>-0.005390</td>\n",
       "      <td>-0.049688</td>\n",
       "      <td>0.004303</td>\n",
       "      <td>-0.095859</td>\n",
       "      <td>0.054701</td>\n",
       "      <td>-0.081270</td>\n",
       "      <td>-0.033028</td>\n",
       "      <td>-0.012638</td>\n",
       "      <td>0.212774</td>\n",
       "      <td>-0.004039</td>\n",
       "      <td>0.045198</td>\n",
       "      <td>0.156236</td>\n",
       "      <td>0.078089</td>\n",
       "      <td>-0.043471</td>\n",
       "      <td>-0.236006</td>\n",
       "      <td>-0.030068</td>\n",
       "      <td>0.104754</td>\n",
       "      <td>-0.046790</td>\n",
       "      <td>-0.302157</td>\n",
       "      <td>0.094583</td>\n",
       "      <td>0.153506</td>\n",
       "      <td>0.014913</td>\n",
       "      <td>0.052733</td>\n",
       "      <td>-0.028487</td>\n",
       "      <td>-0.086378</td>\n",
       "      <td>-0.028226</td>\n",
       "      <td>0.056541</td>\n",
       "      <td>-0.015677</td>\n",
       "      <td>...</td>\n",
       "      <td>-0.112170</td>\n",
       "      <td>-0.075602</td>\n",
       "      <td>0.060179</td>\n",
       "      <td>0.031495</td>\n",
       "      <td>-0.160886</td>\n",
       "      <td>-0.021232</td>\n",
       "      <td>0.024213</td>\n",
       "      <td>0.034799</td>\n",
       "      <td>0.064698</td>\n",
       "      <td>-0.051971</td>\n",
       "      <td>0.068195</td>\n",
       "      <td>-0.017652</td>\n",
       "      <td>-0.052318</td>\n",
       "      <td>-0.023000</td>\n",
       "      <td>0.006106</td>\n",
       "      <td>-0.110065</td>\n",
       "      <td>0.038114</td>\n",
       "      <td>-0.090112</td>\n",
       "      <td>0.002197</td>\n",
       "      <td>0.064295</td>\n",
       "      <td>0.262229</td>\n",
       "      <td>-0.111154</td>\n",
       "      <td>-0.159197</td>\n",
       "      <td>-0.116430</td>\n",
       "      <td>-0.116211</td>\n",
       "      <td>0.115377</td>\n",
       "      <td>0.062886</td>\n",
       "      <td>0.026646</td>\n",
       "      <td>-0.057252</td>\n",
       "      <td>-0.157200</td>\n",
       "      <td>-0.045927</td>\n",
       "      <td>0.004750</td>\n",
       "      <td>-0.170502</td>\n",
       "      <td>-0.071589</td>\n",
       "      <td>0.030362</td>\n",
       "      <td>-0.090783</td>\n",
       "      <td>-0.152579</td>\n",
       "      <td>0.059541</td>\n",
       "      <td>0.079492</td>\n",
       "      <td>-0.049446</td>\n",
       "    </tr>\n",
       "    <tr>\n",
       "      <th>3</th>\n",
       "      <td>-0.134350</td>\n",
       "      <td>0.274177</td>\n",
       "      <td>0.071216</td>\n",
       "      <td>-0.152840</td>\n",
       "      <td>-0.071779</td>\n",
       "      <td>0.086922</td>\n",
       "      <td>-3.470004</td>\n",
       "      <td>0.202651</td>\n",
       "      <td>0.039968</td>\n",
       "      <td>-0.272615</td>\n",
       "      <td>-0.161865</td>\n",
       "      <td>-0.112402</td>\n",
       "      <td>-0.027084</td>\n",
       "      <td>-0.165779</td>\n",
       "      <td>0.100387</td>\n",
       "      <td>0.186240</td>\n",
       "      <td>0.025508</td>\n",
       "      <td>0.004434</td>\n",
       "      <td>0.108164</td>\n",
       "      <td>-0.058788</td>\n",
       "      <td>0.149333</td>\n",
       "      <td>-0.034336</td>\n",
       "      <td>0.048867</td>\n",
       "      <td>0.034381</td>\n",
       "      <td>0.209277</td>\n",
       "      <td>0.026330</td>\n",
       "      <td>-0.103806</td>\n",
       "      <td>0.103595</td>\n",
       "      <td>0.093837</td>\n",
       "      <td>0.216081</td>\n",
       "      <td>-0.338169</td>\n",
       "      <td>-0.071948</td>\n",
       "      <td>-0.012577</td>\n",
       "      <td>0.031757</td>\n",
       "      <td>-0.019404</td>\n",
       "      <td>-0.177210</td>\n",
       "      <td>-0.038941</td>\n",
       "      <td>0.119955</td>\n",
       "      <td>-0.072053</td>\n",
       "      <td>-0.175506</td>\n",
       "      <td>...</td>\n",
       "      <td>-0.082900</td>\n",
       "      <td>0.055215</td>\n",
       "      <td>0.100973</td>\n",
       "      <td>0.078861</td>\n",
       "      <td>0.010543</td>\n",
       "      <td>-0.035932</td>\n",
       "      <td>0.034898</td>\n",
       "      <td>-0.012590</td>\n",
       "      <td>0.061859</td>\n",
       "      <td>-0.100603</td>\n",
       "      <td>0.006270</td>\n",
       "      <td>-0.059342</td>\n",
       "      <td>-0.106596</td>\n",
       "      <td>-0.029608</td>\n",
       "      <td>-0.102145</td>\n",
       "      <td>-0.096153</td>\n",
       "      <td>0.040206</td>\n",
       "      <td>-0.066203</td>\n",
       "      <td>-0.171135</td>\n",
       "      <td>-0.002671</td>\n",
       "      <td>0.611896</td>\n",
       "      <td>0.000570</td>\n",
       "      <td>0.171321</td>\n",
       "      <td>0.145912</td>\n",
       "      <td>-0.122224</td>\n",
       "      <td>0.050668</td>\n",
       "      <td>0.044286</td>\n",
       "      <td>-0.006852</td>\n",
       "      <td>-0.064165</td>\n",
       "      <td>0.115644</td>\n",
       "      <td>-0.068090</td>\n",
       "      <td>-0.131243</td>\n",
       "      <td>0.063485</td>\n",
       "      <td>-0.198849</td>\n",
       "      <td>0.025791</td>\n",
       "      <td>0.037898</td>\n",
       "      <td>0.147014</td>\n",
       "      <td>-0.037966</td>\n",
       "      <td>0.024500</td>\n",
       "      <td>-0.030757</td>\n",
       "    </tr>\n",
       "    <tr>\n",
       "      <th>4</th>\n",
       "      <td>-0.120238</td>\n",
       "      <td>0.058417</td>\n",
       "      <td>-0.001636</td>\n",
       "      <td>0.054513</td>\n",
       "      <td>-0.039330</td>\n",
       "      <td>0.046843</td>\n",
       "      <td>-3.007665</td>\n",
       "      <td>0.144434</td>\n",
       "      <td>-0.054466</td>\n",
       "      <td>-0.245822</td>\n",
       "      <td>0.075080</td>\n",
       "      <td>-0.061209</td>\n",
       "      <td>0.033049</td>\n",
       "      <td>-0.089401</td>\n",
       "      <td>0.092223</td>\n",
       "      <td>0.075922</td>\n",
       "      <td>0.054702</td>\n",
       "      <td>-0.100715</td>\n",
       "      <td>-0.011568</td>\n",
       "      <td>0.028854</td>\n",
       "      <td>0.049202</td>\n",
       "      <td>0.038119</td>\n",
       "      <td>0.051970</td>\n",
       "      <td>0.066608</td>\n",
       "      <td>-0.012002</td>\n",
       "      <td>-0.066147</td>\n",
       "      <td>0.002653</td>\n",
       "      <td>-0.049843</td>\n",
       "      <td>0.047221</td>\n",
       "      <td>0.031909</td>\n",
       "      <td>-0.256382</td>\n",
       "      <td>0.015642</td>\n",
       "      <td>0.175024</td>\n",
       "      <td>0.034064</td>\n",
       "      <td>-0.094856</td>\n",
       "      <td>0.017811</td>\n",
       "      <td>-0.112735</td>\n",
       "      <td>-0.053458</td>\n",
       "      <td>-0.088512</td>\n",
       "      <td>-0.092370</td>\n",
       "      <td>...</td>\n",
       "      <td>-0.033073</td>\n",
       "      <td>-0.052101</td>\n",
       "      <td>-0.114310</td>\n",
       "      <td>-0.101266</td>\n",
       "      <td>-0.085560</td>\n",
       "      <td>0.107210</td>\n",
       "      <td>-0.027810</td>\n",
       "      <td>0.012858</td>\n",
       "      <td>0.104341</td>\n",
       "      <td>-0.026723</td>\n",
       "      <td>0.029680</td>\n",
       "      <td>-0.015145</td>\n",
       "      <td>-0.099651</td>\n",
       "      <td>0.044732</td>\n",
       "      <td>-0.111125</td>\n",
       "      <td>-0.006900</td>\n",
       "      <td>-0.001508</td>\n",
       "      <td>0.144379</td>\n",
       "      <td>-0.052787</td>\n",
       "      <td>0.016859</td>\n",
       "      <td>0.389031</td>\n",
       "      <td>-0.087777</td>\n",
       "      <td>0.034499</td>\n",
       "      <td>0.109597</td>\n",
       "      <td>0.014428</td>\n",
       "      <td>-0.065082</td>\n",
       "      <td>0.030642</td>\n",
       "      <td>0.124628</td>\n",
       "      <td>-0.135270</td>\n",
       "      <td>-0.127347</td>\n",
       "      <td>0.040340</td>\n",
       "      <td>-0.136771</td>\n",
       "      <td>0.023341</td>\n",
       "      <td>-0.135951</td>\n",
       "      <td>0.179228</td>\n",
       "      <td>0.001529</td>\n",
       "      <td>0.002524</td>\n",
       "      <td>0.092054</td>\n",
       "      <td>0.133207</td>\n",
       "      <td>-0.028647</td>\n",
       "    </tr>\n",
       "  </tbody>\n",
       "</table>\n",
       "<p>5 rows × 300 columns</p>\n",
       "</div>"
      ],
      "text/plain": [
       "        0         1         2    ...       297       298       299\n",
       "0  0.056019  0.070332 -0.082988  ...  0.132732  0.205851  0.030703\n",
       "1 -0.077072  0.195257  0.015730  ... -0.008392  0.172069  0.058381\n",
       "2 -0.004378 -0.015556  0.085505  ...  0.059541  0.079492 -0.049446\n",
       "3 -0.134350  0.274177  0.071216  ... -0.037966  0.024500 -0.030757\n",
       "4 -0.120238  0.058417 -0.001636  ...  0.092054  0.133207 -0.028647\n",
       "\n",
       "[5 rows x 300 columns]"
      ]
     },
     "execution_count": 40,
     "metadata": {},
     "output_type": "execute_result"
    }
   ],
   "source": [
    "plot_df.head()"
   ]
  },
  {
   "cell_type": "code",
   "execution_count": 41,
   "metadata": {
    "id": "0DcS-D1UCMGY"
   },
   "outputs": [],
   "source": [
    "from sklearn.manifold import TSNE"
   ]
  },
  {
   "cell_type": "code",
   "execution_count": 42,
   "metadata": {
    "colab": {
     "base_uri": "https://localhost:8080/",
     "height": 585
    },
    "id": "JhqUtdGmjrkp",
    "outputId": "cd83bab5-e157-448a-d227-19525835be73"
   },
   "outputs": [
    {
     "data": {
      "image/png": "[encoded data removed]",
      "text/plain": [
       "<Figure size 625.5x576 with 1 Axes>"
      ]
     },
     "metadata": {
      "needs_background": "light"
     },
     "output_type": "display_data"
    }
   ],
   "source": [
    "# Reference: https://www.kaggle.com/masterscrat/lsa-lgbm-baseline-w-system-monitoring\n",
    "xtsne=TSNE(n_components=2,perplexity=100)\n",
    "results=xtsne.fit_transform(plot_df)\n",
    "\n",
    "dftsne = pd.DataFrame(results, columns=['x','y'])\n",
    "dftsne['class'] = np.array(X_train_1000['new_column'])\n",
    "\n",
    "\n",
    "ax = sns.lmplot('x', 'y', dftsne, hue='class', fit_reg=False, height=8, scatter_kws={'alpha':0.7,'s':60})\n"
   ]
  },
  {
   "cell_type": "markdown",
   "metadata": {
    "id": "MQUqg_3kvuxo"
   },
   "source": [
    "# **Inference:**\n",
    "*   I have performed EDA analysis with boxplot, distribution plots, and TSNE representation of data.\n",
    "*   From the distribution plot for all the categories (TN,FN,TP) for our three features we can say FN vs TN plot have close resemblance as the plots almost match each other\n",
    "*   As in the case of FN vs TP plot distribution is far from overlaping, that means there is lot difference in features of FN & TP, which is why they are not predicted as positive(Toxic).\n",
    "*   From my analysis, one can also point out that TP have lesser number of unique value and total words in its comments than FN and TN comments.\n",
    "*   This proves our analysis in previous main notebook ,that non-toxic comments have high number of unique values, to be right.\n",
    "\n",
    "*   From the TSNE plot we can say that there is minuscule difference in toxic and non-toxic comment words that visible when have high number of samples as in main notebook. \n",
    "\n",
    "\n",
    "\n",
    "\n"
   ]
  },
  {
   "cell_type": "markdown",
   "metadata": {
    "id": "AybFExzavh3I"
   },
   "source": [
    "# **Conclusion:**\n",
    "\n",
    "\n",
    "*   In this notebook we have firstly considered a small part of training data around 1k points for our error analysis. \n",
    "*   I have used my best performance Bidirectional LSTM model for predicting the 1k data points.\n",
    "*   We split our predicted points into True Positive, True Negative, False Positive and False Negative, and perform EDA analysis with different features.\n",
    "*   Box plot , Distribution plot and TSNE representations are some of the technique used to support our analysis.\n",
    "\n",
    "*   So we conclude with my analysis that Toxic comments have lesser number of unique values than Non-Toxic comments.\n",
    "\n",
    "\n",
    "\n",
    "\n",
    "\n"
   ]
  }
 ],
 "metadata": {
  "accelerator": "GPU",
  "colab": {
   "collapsed_sections": [],
   "name": "CaseStudy1_final_analysis.ipynb",
   "provenance": [],
   "toc_visible": true
  },
  "kernelspec": {
   "display_name": "Python 3",
   "language": "python",
   "name": "python3"
  },
  "language_info": {
   "codemirror_mode": {
    "name": "ipython",
    "version": 3
   },
   "file_extension": ".py",
   "mimetype": "text/x-python",
   "name": "python",
   "nbconvert_exporter": "python",
   "pygments_lexer": "ipython3",
   "version": "3.8.3"
  }
 },
 "nbformat": 4,
 "nbformat_minor": 1
}
